{
 "cells": [
  {
   "cell_type": "markdown",
   "id": "ba8bee85",
   "metadata": {},
   "source": [
    "# 1. Manipulate using a list.\n",
    "\n",
    "i)To add new elements to the end of the list,ii)To reverse elements in the list,iii)To display the same list of \n",
    "elements multiple times,iv)To concatenate two list,v)To sort the elements in the list in ascending order."
   ]
  },
  {
   "cell_type": "code",
   "execution_count": 1,
   "id": "8b91d4c6",
   "metadata": {},
   "outputs": [
    {
     "data": {
      "text/plain": [
       "[1, 24, 23, 'Veena', 'Krishnan', 1968]"
      ]
     },
     "execution_count": 1,
     "metadata": {},
     "output_type": "execute_result"
    }
   ],
   "source": [
    "#i)to add new elements to end of list\n",
    "list=[1,24,23,'Veena','Krishnan',1968]\n",
    "list"
   ]
  },
  {
   "cell_type": "code",
   "execution_count": 2,
   "id": "f2c379e8",
   "metadata": {},
   "outputs": [
    {
     "data": {
      "text/plain": [
       "[1, 24, 23, 'Veena', 'Krishnan', 1968, 56]"
      ]
     },
     "execution_count": 2,
     "metadata": {},
     "output_type": "execute_result"
    }
   ],
   "source": [
    "list.append(56) #add element using append\n",
    "list"
   ]
  },
  {
   "cell_type": "code",
   "execution_count": 3,
   "id": "d9b6f70a",
   "metadata": {},
   "outputs": [
    {
     "data": {
      "text/plain": [
       "[1, 24, 23, 'Veena', 'Krishnan', 1968, 56, 5, 6]"
      ]
     },
     "execution_count": 3,
     "metadata": {},
     "output_type": "execute_result"
    }
   ],
   "source": [
    "list.extend([5,6]) #add list using extend \n",
    "list"
   ]
  },
  {
   "cell_type": "code",
   "execution_count": 4,
   "id": "d4c9301d",
   "metadata": {},
   "outputs": [
    {
     "data": {
      "text/plain": [
       "[1, 24, 23, 'Veena', 'Krishnan', 1968, 56, 5, 6, [7, 8]]"
      ]
     },
     "execution_count": 4,
     "metadata": {},
     "output_type": "execute_result"
    }
   ],
   "source": [
    "list.append([7,8])#add list using append\n",
    "list"
   ]
  },
  {
   "cell_type": "code",
   "execution_count": 5,
   "id": "1de2968c",
   "metadata": {},
   "outputs": [
    {
     "data": {
      "text/plain": [
       "[[7, 8], 6, 5, 56, 1968, 'Krishnan', 'Veena', 23, 24, 1]"
      ]
     },
     "execution_count": 5,
     "metadata": {},
     "output_type": "execute_result"
    }
   ],
   "source": [
    "#ii)to reverse elements in list\n",
    "list.reverse()\n",
    "list"
   ]
  },
  {
   "cell_type": "code",
   "execution_count": 6,
   "id": "17080219",
   "metadata": {},
   "outputs": [
    {
     "data": {
      "text/plain": [
       "[1, 2, 3, 1, 2, 3]"
      ]
     },
     "execution_count": 6,
     "metadata": {},
     "output_type": "execute_result"
    }
   ],
   "source": [
    "#iii)To display the same list of elements multiple times\n",
    "list1=[1,2,3]*2\n",
    "list1"
   ]
  },
  {
   "cell_type": "code",
   "execution_count": 7,
   "id": "b8664d0b",
   "metadata": {},
   "outputs": [
    {
     "data": {
      "text/plain": [
       "[[7, 8], 6, 5, 56, 1968, 'Krishnan', 'Veena', 23, 24, 1, 1, 2, 3, 1, 2, 3]"
      ]
     },
     "execution_count": 7,
     "metadata": {},
     "output_type": "execute_result"
    }
   ],
   "source": [
    "#iv)To concatenate two list\n",
    "list3=list+list1\n",
    "list3"
   ]
  },
  {
   "cell_type": "code",
   "execution_count": 11,
   "id": "513be204",
   "metadata": {},
   "outputs": [
    {
     "data": {
      "text/plain": [
       "[1, 23, 24, 56]"
      ]
     },
     "execution_count": 11,
     "metadata": {},
     "output_type": "execute_result"
    }
   ],
   "source": [
    "#V)To sort the elements in the list in ascending order.\n",
    "l1=[56,1,24,23] #sort numbers in list\n",
    "l1.sort()\n",
    "l1"
   ]
  },
  {
   "cell_type": "code",
   "execution_count": 12,
   "id": "83cf3ed6",
   "metadata": {},
   "outputs": [
    {
     "data": {
      "text/plain": [
       "['Devi', 'Krishnan', 'Veena']"
      ]
     },
     "execution_count": 12,
     "metadata": {},
     "output_type": "execute_result"
    }
   ],
   "source": [
    "l2=['Veena','Krishnan','Devi'] #sort string in list\n",
    "l2.sort()\n",
    "l2"
   ]
  },
  {
   "cell_type": "markdown",
   "id": "e55dadfd",
   "metadata": {},
   "source": [
    "# 2. Write a Python program to do in the tuples.\n",
    "i)Manipulate using tuples,ii)To add new elements to the end of the tuples,iii)To reverse elements in the list,\n",
    "iv)To display the elements of the same tuple multiple times,v)To concatenate two tuples,vi)\n",
    "To sort the elements in the list in ascending order.\n"
   ]
  },
  {
   "cell_type": "code",
   "execution_count": 13,
   "id": "3d25f222",
   "metadata": {},
   "outputs": [
    {
     "data": {
      "text/plain": [
       "(1, 24, 23)"
      ]
     },
     "execution_count": 13,
     "metadata": {},
     "output_type": "execute_result"
    }
   ],
   "source": [
    "#i)Manipulate using tuples\n",
    "tuple=(1,24,23)\n",
    "tuple"
   ]
  },
  {
   "cell_type": "code",
   "execution_count": 15,
   "id": "c49e1c8d",
   "metadata": {},
   "outputs": [
    {
     "data": {
      "text/plain": [
       "(1, 24, 23, 30, 40)"
      ]
     },
     "execution_count": 15,
     "metadata": {},
     "output_type": "execute_result"
    }
   ],
   "source": [
    "#ii)To add new elements to the end of the tuples\n",
    "tuple1=tuple+(30,40)\n",
    "tuple1"
   ]
  },
  {
   "cell_type": "code",
   "execution_count": 21,
   "id": "0012a785",
   "metadata": {},
   "outputs": [
    {
     "name": "stdout",
     "output_type": "stream",
     "text": [
      "before reverse (24, 85, 6, 1, 21)\n",
      "after reverse (21, 1, 6, 85, 24)\n"
     ]
    }
   ],
   "source": [
    "#iii)To reverse elements in the list\n",
    "tuple2=(24,85,6,1,21)\n",
    "print('before reverse',tuple2)\n",
    "print('after reverse',tuple2[::-1])\n"
   ]
  },
  {
   "cell_type": "code",
   "execution_count": 23,
   "id": "0babc2a3",
   "metadata": {},
   "outputs": [
    {
     "data": {
      "text/plain": [
       "(1, 4, 5, 'Veen', 1, 4, 5, 'Veen', 1, 4, 5, 'Veen')"
      ]
     },
     "execution_count": 23,
     "metadata": {},
     "output_type": "execute_result"
    }
   ],
   "source": [
    "#iv)To display the elements of the same tuple multiple times\n",
    "t=(1,4,5,'Veen')\n",
    "tu=t*3\n",
    "tu"
   ]
  },
  {
   "cell_type": "code",
   "execution_count": 24,
   "id": "2012e023",
   "metadata": {},
   "outputs": [
    {
     "data": {
      "text/plain": [
       "(1, 24, 23, 30, 40, 24, 85, 6, 1, 21)"
      ]
     },
     "execution_count": 24,
     "metadata": {},
     "output_type": "execute_result"
    }
   ],
   "source": [
    "#v)To concatenate two tuples\n",
    "new_tuple=tuple1+tuple2\n",
    "new_tuple"
   ]
  },
  {
   "cell_type": "code",
   "execution_count": 26,
   "id": "6125d897",
   "metadata": {},
   "outputs": [
    {
     "name": "stdout",
     "output_type": "stream",
     "text": [
      "[1, 1, 6, 21, 23, 24, 24, 30, 40, 85]\n"
     ]
    }
   ],
   "source": [
    "#vi)To sort the elements in the tuple in ascending order.\n",
    "sor=sorted(new_tuple)#using sorted\n",
    "print(sor)"
   ]
  },
  {
   "cell_type": "markdown",
   "id": "09cb7b27",
   "metadata": {},
   "source": [
    "# 3. Write a python program to implement the following using list.\n",
    "\n",
    "i)Create a list with integers (minimum 10 numbers),ii)How to display the last number in the list,iii)Command for displaying\n",
    "the values from the list [0:4],iv)Command for displaying the values from the list [2:],v)Command for displaying\n",
    "the values from the list [:6]"
   ]
  },
  {
   "cell_type": "code",
   "execution_count": 27,
   "id": "a04d735f",
   "metadata": {},
   "outputs": [
    {
     "data": {
      "text/plain": [
       "[24, 98, 21, 1, 18, 40, 10, 80, 63, 94]"
      ]
     },
     "execution_count": 27,
     "metadata": {},
     "output_type": "execute_result"
    }
   ],
   "source": [
    "#i)Create a list with integers (minimum 10 numbers)\n",
    "list=[24,98,21,1,18,40,10,80,63,94]\n",
    "list"
   ]
  },
  {
   "cell_type": "code",
   "execution_count": 28,
   "id": "9604aa8a",
   "metadata": {},
   "outputs": [
    {
     "name": "stdout",
     "output_type": "stream",
     "text": [
      "94\n"
     ]
    }
   ],
   "source": [
    "#ii)How to display the last number in the list\n",
    "print(list[-1])"
   ]
  },
  {
   "cell_type": "code",
   "execution_count": 29,
   "id": "bd495d08",
   "metadata": {},
   "outputs": [
    {
     "name": "stdout",
     "output_type": "stream",
     "text": [
      "[24, 98, 21, 1]\n"
     ]
    }
   ],
   "source": [
    "#iii)Command for displaying the values from the list [0:4]\n",
    "print(list[0:4])"
   ]
  },
  {
   "cell_type": "code",
   "execution_count": 30,
   "id": "beb296ba",
   "metadata": {},
   "outputs": [
    {
     "name": "stdout",
     "output_type": "stream",
     "text": [
      "[21, 1, 18, 40, 10, 80, 63, 94]\n"
     ]
    }
   ],
   "source": [
    "#iv)Command for displaying the values from the list [2:]\n",
    "print(list[2:])"
   ]
  },
  {
   "cell_type": "code",
   "execution_count": 31,
   "id": "f6a46090",
   "metadata": {},
   "outputs": [
    {
     "name": "stdout",
     "output_type": "stream",
     "text": [
      "[24, 98, 21, 1, 18, 40]\n"
     ]
    }
   ],
   "source": [
    "#v)Command for displaying the values from the list [:6]\n",
    "print(list[:6])"
   ]
  },
  {
   "cell_type": "markdown",
   "id": "e2ffb102",
   "metadata": {},
   "source": [
    "# 4. Write a Python program: tuple1 = (10,50,20,40,30)\n",
    "\n",
    "i)To display the elements 10 and 50 from tuple1,ii)To display the length of a tuple1,iii)To find the minimum element \n",
    "from tuple1,iv)To add all elements in the tuple1,V)To display the same tuple1 multiple times"
   ]
  },
  {
   "cell_type": "code",
   "execution_count": 35,
   "id": "a0797803",
   "metadata": {},
   "outputs": [
    {
     "name": "stdout",
     "output_type": "stream",
     "text": [
      "10 50\n"
     ]
    }
   ],
   "source": [
    "#i)To display the elements 10 and 50 from tuple1,I have created tuple1 already for previous exercise so used tup now\n",
    "tup=(10,50,20,40,30)\n",
    "print(tup[0],tup[1])"
   ]
  },
  {
   "cell_type": "code",
   "execution_count": 36,
   "id": "157c22d9",
   "metadata": {},
   "outputs": [
    {
     "data": {
      "text/plain": [
       "5"
      ]
     },
     "execution_count": 36,
     "metadata": {},
     "output_type": "execute_result"
    }
   ],
   "source": [
    "#ii)To display the length of a tup\n",
    "len(tup)"
   ]
  },
  {
   "cell_type": "code",
   "execution_count": 37,
   "id": "4c31b681",
   "metadata": {},
   "outputs": [
    {
     "data": {
      "text/plain": [
       "10"
      ]
     },
     "execution_count": 37,
     "metadata": {},
     "output_type": "execute_result"
    }
   ],
   "source": [
    "#iii)To find the minimum element from tup\n",
    "min(tup)"
   ]
  },
  {
   "cell_type": "code",
   "execution_count": 38,
   "id": "b95c4637",
   "metadata": {},
   "outputs": [
    {
     "name": "stdout",
     "output_type": "stream",
     "text": [
      "150\n"
     ]
    }
   ],
   "source": [
    "#iv)To add all elements in the tup\n",
    "print(sum(tup))"
   ]
  },
  {
   "cell_type": "code",
   "execution_count": 39,
   "id": "e0d7c1af",
   "metadata": {},
   "outputs": [
    {
     "data": {
      "text/plain": [
       "(10, 50, 20, 40, 30, 10, 50, 20, 40, 30, 10, 50, 20, 40, 30)"
      ]
     },
     "execution_count": 39,
     "metadata": {},
     "output_type": "execute_result"
    }
   ],
   "source": [
    "#V)To display the same tuple1 multiple times\n",
    "m=tup*3\n",
    "m"
   ]
  },
  {
   "cell_type": "markdown",
   "id": "c7db5566",
   "metadata": {},
   "source": [
    "# 5.Write a python program\n",
    "i)To calculate the length of the string,ii)To reverse words in a string,iii)To display same string multiple times,\n",
    "iv)To concatenate the strings,v)Str1=\"South India\" using slicing display only \"India\""
   ]
  },
  {
   "cell_type": "code",
   "execution_count": 40,
   "id": "b52ae128",
   "metadata": {},
   "outputs": [
    {
     "name": "stdout",
     "output_type": "stream",
     "text": [
      "Enter StringHello Veena\n",
      "11\n"
     ]
    }
   ],
   "source": [
    "#i)To calculate the length of the string\n",
    "str=input(\"Enter String\")\n",
    "print(len(str))"
   ]
  },
  {
   "cell_type": "code",
   "execution_count": 42,
   "id": "a2a87ff3",
   "metadata": {},
   "outputs": [
    {
     "name": "stdout",
     "output_type": "stream",
     "text": [
      "Enter String:HelloWorld\n",
      "dlroWolleH\n"
     ]
    }
   ],
   "source": [
    "#ii)To reverse words in a string\n",
    "str=input(\"Enter String:\")\n",
    "print(str[::-1])"
   ]
  },
  {
   "cell_type": "code",
   "execution_count": 43,
   "id": "ac5d893e",
   "metadata": {},
   "outputs": [
    {
     "data": {
      "text/plain": [
       "'Good MorningGood MorningGood Morning'"
      ]
     },
     "execution_count": 43,
     "metadata": {},
     "output_type": "execute_result"
    }
   ],
   "source": [
    "#iii)To display same string multiple times\n",
    "str=\"Good Morning\"\n",
    "s=str*3\n",
    "s"
   ]
  },
  {
   "cell_type": "code",
   "execution_count": 44,
   "id": "eef3bd67",
   "metadata": {},
   "outputs": [
    {
     "name": "stdout",
     "output_type": "stream",
     "text": [
      "Welcome to Python\n"
     ]
    }
   ],
   "source": [
    "#iv)To concatenate the strings\n",
    "s1=\"Welcome\"\n",
    "s2=\"to Python\"\n",
    "s3=s1+\" \"+s2\n",
    "print(s3)"
   ]
  },
  {
   "cell_type": "code",
   "execution_count": 48,
   "id": "5820f143",
   "metadata": {},
   "outputs": [
    {
     "name": "stdout",
     "output_type": "stream",
     "text": [
      "India\n"
     ]
    }
   ],
   "source": [
    "#v)Str1=\"South India\" using slicing display only \"India\"\n",
    "str1=\"South India\"\n",
    "print(str1[6::])"
   ]
  },
  {
   "cell_type": "markdown",
   "id": "805cc793",
   "metadata": {},
   "source": [
    "# 7.Python program to insert a number at any position in list"
   ]
  },
  {
   "cell_type": "code",
   "execution_count": 51,
   "id": "bda45974",
   "metadata": {},
   "outputs": [
    {
     "name": "stdout",
     "output_type": "stream",
     "text": [
      "[24, 7, 9, 30]\n",
      "updated_list: [1, 24, 7, 9, 30]\n"
     ]
    }
   ],
   "source": [
    "list_no=[24,7,9,30]\n",
    "print(list_no)\n",
    "list_no.insert(0,1)\n",
    "print(\"updated_list:\",list_no)"
   ]
  },
  {
   "cell_type": "markdown",
   "id": "500e3eb7",
   "metadata": {},
   "source": [
    "# 8.Python program to delete an element from a list by index"
   ]
  },
  {
   "cell_type": "code",
   "execution_count": 11,
   "id": "b2aac33c",
   "metadata": {},
   "outputs": [
    {
     "name": "stdout",
     "output_type": "stream",
     "text": [
      "[95, 76, 21, 80, 11, 24]\n",
      "updated_list: [76, 21, 80, 11, 24]\n"
     ]
    }
   ],
   "source": [
    "l_no=[95,76,21,80,11,24]\n",
    "print(l_no)\n",
    "l_no.pop(0)   #using pop\n",
    "print(\"updated_list:\",l_no)"
   ]
  },
  {
   "cell_type": "code",
   "execution_count": 14,
   "id": "df5761e8",
   "metadata": {},
   "outputs": [
    {
     "name": "stdout",
     "output_type": "stream",
     "text": [
      "[95, 76, 21, 80, 11, 24]\n",
      "updated_list: [95, 76, 21, 80, 24]\n"
     ]
    }
   ],
   "source": [
    "l_no=[95,76,21,80,11,24]\n",
    "print(l_no)\n",
    "del l_no[4]   #using del\n",
    "print(\"updated_list:\",l_no)"
   ]
  },
  {
   "cell_type": "markdown",
   "id": "e3959272",
   "metadata": {},
   "source": [
    "# 6.Perform the following:\n",
    "\n",
    "i)Creating the Dictionary,ii)Accessing values and keys in the Dictionary,iii)Updating the dictionary using a function,\n",
    "iv)Clear and delete the dictionary values."
   ]
  },
  {
   "cell_type": "code",
   "execution_count": 1,
   "id": "c53a214a",
   "metadata": {},
   "outputs": [
    {
     "data": {
      "text/plain": [
       "{'name': 'Veena', 'l_name': 'Krishnan', 'age': 20}"
      ]
     },
     "execution_count": 1,
     "metadata": {},
     "output_type": "execute_result"
    }
   ],
   "source": [
    "#i)Creating the Dictionary\n",
    "dict={'name':'Veena','l_name':'Krishnan','age':20}\n",
    "dict"
   ]
  },
  {
   "cell_type": "code",
   "execution_count": 2,
   "id": "fc2f04ed",
   "metadata": {},
   "outputs": [
    {
     "data": {
      "text/plain": [
       "dict_values(['Veena', 'Krishnan', 20])"
      ]
     },
     "execution_count": 2,
     "metadata": {},
     "output_type": "execute_result"
    }
   ],
   "source": [
    "#ii)Accessing values and keys in the Dictionary\n",
    "dict.values()"
   ]
  },
  {
   "cell_type": "code",
   "execution_count": 4,
   "id": "86aa9d35",
   "metadata": {},
   "outputs": [
    {
     "data": {
      "text/plain": [
       "dict_items([('name', 'Veena'), ('l_name', 'Krishnan'), ('age', 20)])"
      ]
     },
     "execution_count": 4,
     "metadata": {},
     "output_type": "execute_result"
    }
   ],
   "source": [
    "dict.items()"
   ]
  },
  {
   "cell_type": "code",
   "execution_count": 5,
   "id": "ece2596b",
   "metadata": {},
   "outputs": [
    {
     "data": {
      "text/plain": [
       "dict_keys(['name', 'l_name', 'age'])"
      ]
     },
     "execution_count": 5,
     "metadata": {},
     "output_type": "execute_result"
    }
   ],
   "source": [
    "dict.keys()"
   ]
  },
  {
   "cell_type": "code",
   "execution_count": 7,
   "id": "57613ae9",
   "metadata": {},
   "outputs": [
    {
     "data": {
      "text/plain": [
       "{'name': 'Veena', 'l_name': 'Krishnan', 'age': 21}"
      ]
     },
     "execution_count": 7,
     "metadata": {},
     "output_type": "execute_result"
    }
   ],
   "source": [
    "#iii)Updating the dictionary using a function\n",
    "dict.update({'age':21})\n",
    "dict"
   ]
  },
  {
   "cell_type": "code",
   "execution_count": 8,
   "id": "c490dd34",
   "metadata": {},
   "outputs": [
    {
     "data": {
      "text/plain": [
       "'Krishnan'"
      ]
     },
     "execution_count": 8,
     "metadata": {},
     "output_type": "execute_result"
    }
   ],
   "source": [
    "#iv)Clear and delete the dictionary values\n",
    "dict.pop('l_name')"
   ]
  },
  {
   "cell_type": "code",
   "execution_count": 9,
   "id": "34b49066",
   "metadata": {},
   "outputs": [
    {
     "name": "stdout",
     "output_type": "stream",
     "text": [
      "{'name': 'Veena'}\n"
     ]
    }
   ],
   "source": [
    "del dict['age']\n",
    "print(dict)"
   ]
  },
  {
   "cell_type": "code",
   "execution_count": 10,
   "id": "cbe1c506",
   "metadata": {},
   "outputs": [
    {
     "name": "stdout",
     "output_type": "stream",
     "text": [
      "{}\n"
     ]
    }
   ],
   "source": [
    "dict.clear()\n",
    "print(dict)"
   ]
  },
  {
   "cell_type": "markdown",
   "id": "828655b1",
   "metadata": {},
   "source": [
    "# 10.Write a python program to find sum of all items in a tuple"
   ]
  },
  {
   "cell_type": "code",
   "execution_count": 17,
   "id": "12a74d59",
   "metadata": {},
   "outputs": [
    {
     "data": {
      "text/plain": [
       "42"
      ]
     },
     "execution_count": 17,
     "metadata": {},
     "output_type": "execute_result"
    }
   ],
   "source": [
    "mytuple=(2,4,6,8,10,12)\n",
    "tupsum=sum(mytuple) #using sum\n",
    "tupsum"
   ]
  },
  {
   "cell_type": "code",
   "execution_count": 18,
   "id": "9bfef74f",
   "metadata": {},
   "outputs": [
    {
     "name": "stdout",
     "output_type": "stream",
     "text": [
      "42\n"
     ]
    }
   ],
   "source": [
    "mytuple=(2,4,6,8,10,12)\n",
    "sum=0\n",
    "for i in mytuple:    #using loop\n",
    "    sum+= i\n",
    "print(sum)"
   ]
  },
  {
   "cell_type": "markdown",
   "id": "637340b4",
   "metadata": {},
   "source": [
    "# 9.Write a program to display a number from 1 to 100"
   ]
  },
  {
   "cell_type": "code",
   "execution_count": 23,
   "id": "c0683d32",
   "metadata": {},
   "outputs": [
    {
     "name": "stdout",
     "output_type": "stream",
     "text": [
      "0 5 10 15 20 25 30 35 40 45 50 55 60 65 70 75 80 85 90 95 100 "
     ]
    }
   ],
   "source": [
    "n = 0\n",
    "while n <= 100:\n",
    "    print(n, end=' ')\n",
    "    n = n+5"
   ]
  },
  {
   "cell_type": "markdown",
   "id": "89584074",
   "metadata": {},
   "source": [
    "# 17.Python programs to print pattern below"
   ]
  },
  {
   "cell_type": "code",
   "execution_count": 24,
   "id": "93736d26",
   "metadata": {},
   "outputs": [
    {
     "name": "stdout",
     "output_type": "stream",
     "text": [
      "Enter no of rows:5\n",
      "* \n",
      "* * \n",
      "* * * \n",
      "* * * * \n",
      "* * * * * \n"
     ]
    }
   ],
   "source": [
    "n=int(input(\"Enter no of rows:\"))\n",
    "for i in range(0, n):\n",
    "    for j in range(0, i + 1):\n",
    "        print(\"*\", end=' ')\n",
    "    print(\"\\r\")"
   ]
  },
  {
   "cell_type": "code",
   "execution_count": 25,
   "id": "3f18de51",
   "metadata": {},
   "outputs": [
    {
     "name": "stdout",
     "output_type": "stream",
     "text": [
      "Enter no of rows:7\n",
      "            *   \n",
      "           *  *   \n",
      "          *  *  *   \n",
      "         *  *  *  *   \n",
      "        *  *  *  *  *   \n",
      "       *  *  *  *  *  *   \n",
      "      *  *  *  *  *  *  *   \n"
     ]
    }
   ],
   "source": [
    "n=int(input(\"Enter no of rows:\"))\n",
    "m=(2 * n) - 2\n",
    "for i in range(0, n):\n",
    "    for j in range(0, m):\n",
    "        print(end=\" \")\n",
    "    m=m - 1\n",
    "    for j in range(0, i + 1):\n",
    "        print(\"* \", end=' ')\n",
    "    print(\" \")"
   ]
  },
  {
   "cell_type": "code",
   "execution_count": 28,
   "id": "a9ca3ac9",
   "metadata": {},
   "outputs": [
    {
     "name": "stdout",
     "output_type": "stream",
     "text": [
      "Enter number:7\n",
      "       \n",
      "      1 \n",
      "     1 1 \n",
      "    1 2 1 \n",
      "   1 3 3 1 \n",
      "  1 4 6 4 1 \n",
      " 1 5 10 10 5 1 \n",
      "1 6 15 20 15 6 1 \n"
     ]
    }
   ],
   "source": [
    "n=int(input(\"Enter number:\"))\n",
    "for i in range(n+1):\n",
    "    for j in range(n-i):\n",
    "        print(' ', end='')\n",
    "\n",
    "    a = 1\n",
    "    for j in range(1, i+1):\n",
    "        print(a, ' ', sep='', end='')\n",
    "        a = a * (i - j) // j\n",
    "    print()\n",
    "\n"
   ]
  },
  {
   "cell_type": "code",
   "execution_count": 29,
   "id": "468f51a9",
   "metadata": {},
   "outputs": [
    {
     "name": "stdout",
     "output_type": "stream",
     "text": [
      "Enter string:Python\n",
      "P\n",
      "Py\n",
      "Pyt\n",
      "Pyth\n",
      "Pytho\n",
      "Python\n"
     ]
    }
   ],
   "source": [
    "string=input(\"Enter string:\")\n",
    "x = \"\"\n",
    "for i in string:\n",
    "    x += i\n",
    "    print(x)"
   ]
  },
  {
   "cell_type": "markdown",
   "id": "aaf7b6bc",
   "metadata": {},
   "source": [
    "# CONTROL STRUCTURES:"
   ]
  },
  {
   "cell_type": "code",
   "execution_count": 31,
   "id": "b585d026",
   "metadata": {},
   "outputs": [
    {
     "name": "stdout",
     "output_type": "stream",
     "text": [
      "Even numbers count: 13\n",
      "Odd numbers count: 13\n"
     ]
    }
   ],
   "source": [
    "#5.Write a program to display the number of odd & evennumbers that fall between 12 and 37\n",
    "\n",
    "start=12\n",
    "end=37    #numbers between 12 and 17                                    \n",
    "odd_count=0\n",
    "even_count=0\n",
    "for x in range(start, end + 1):\n",
    "        if x % 2==0:\n",
    "            even_count+=1\n",
    "        else:\n",
    "            odd_count+=1\n",
    "print(\"Even numbers count:\",even_count)\n",
    "print(\"Odd numbers count:\",odd_count)\n"
   ]
  },
  {
   "cell_type": "code",
   "execution_count": 33,
   "id": "d3b461ef",
   "metadata": {},
   "outputs": [
    {
     "name": "stdout",
     "output_type": "stream",
     "text": [
      "Enter string:Harry James Potter \n",
      "no of lowercase letters: 13\n",
      "no of uppercase letters: 3\n"
     ]
    }
   ],
   "source": [
    "#4 Write a python program that accepts string and print no of uppercase and lowercase letters\n",
    "string=input(\"Enter string:\")\n",
    "l_count=0  #lowercase count\n",
    "u_count=0  #uppercase count\n",
    "for i in string:\n",
    "      if(i.islower()):\n",
    "            l_count=l_count+1\n",
    "      elif(i.isupper()):\n",
    "            u_count=u_count+1\n",
    "print(\"no of lowercase letters:\",l_count)\n",
    "print(\"no of uppercase letters:\",u_count)"
   ]
  },
  {
   "cell_type": "code",
   "execution_count": 35,
   "id": "53c1b87d",
   "metadata": {},
   "outputs": [
    {
     "name": "stdout",
     "output_type": "stream",
     "text": [
      "Sum of 10 prime numbers: 15\n"
     ]
    }
   ],
   "source": [
    "#7 Write a python program to display sum of first 10 prime number\n",
    "n=10\n",
    "sum = 0\n",
    "for num in range(2,n+1):\n",
    "    i = 2\n",
    "    for i in range(2, num):\n",
    "        if (int(num % i) == 0):\n",
    "            i = num\n",
    "            break;\n",
    "    if i is not num:\n",
    "        sum += num\n",
    "\n",
    "print(\"Sum of 10 prime numbers:\",sum)"
   ]
  },
  {
   "cell_type": "code",
   "execution_count": null,
   "id": "5b64a753",
   "metadata": {},
   "outputs": [],
   "source": []
  }
 ],
 "metadata": {
  "kernelspec": {
   "display_name": "Python 3 (ipykernel)",
   "language": "python",
   "name": "python3"
  },
  "language_info": {
   "codemirror_mode": {
    "name": "ipython",
    "version": 3
   },
   "file_extension": ".py",
   "mimetype": "text/x-python",
   "name": "python",
   "nbconvert_exporter": "python",
   "pygments_lexer": "ipython3",
   "version": "3.11.4"
  }
 },
 "nbformat": 4,
 "nbformat_minor": 5
}

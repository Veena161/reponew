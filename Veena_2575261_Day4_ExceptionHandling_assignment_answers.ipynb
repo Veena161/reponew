{
 "cells": [
  {
   "cell_type": "code",
   "execution_count": 3,
   "id": "5671bd6c",
   "metadata": {},
   "outputs": [
    {
     "name": "stdout",
     "output_type": "stream",
     "text": [
      "24\n"
     ]
    }
   ],
   "source": [
    "x=24\n",
    "try:\n",
    "    print(x)\n",
    "except:\n",
    "    print(\"error occurred\")"
   ]
  },
  {
   "cell_type": "code",
   "execution_count": 4,
   "id": "dc71ee8e",
   "metadata": {},
   "outputs": [
    {
     "name": "stdout",
     "output_type": "stream",
     "text": [
      "variable is not defined\n"
     ]
    }
   ],
   "source": [
    "try:\n",
    "    print(a)\n",
    "except NameError:\n",
    "    print(\"variable is not defined\")"
   ]
  },
  {
   "cell_type": "code",
   "execution_count": 6,
   "id": "8ea3ad02",
   "metadata": {},
   "outputs": [
    {
     "name": "stdout",
     "output_type": "stream",
     "text": [
      "7\n"
     ]
    }
   ],
   "source": [
    "a=7\n",
    "try:\n",
    "    print(a)\n",
    "except NameError:\n",
    "    print(\"variable is not defined\")"
   ]
  },
  {
   "cell_type": "markdown",
   "id": "4a4df7be",
   "metadata": {},
   "source": [
    "# 1. Write a python program with Exception handling to input marks for five subjects Physics, Chemistry, Biology, \n",
    "Mathematics, and Computer. Calculate the percentage and grade according to the following:\n",
    "i)Percentage >= 90% : Grade A,ii) Percentage >= 80%: Grade B,iii) Percentage >= 70% : Grade C,iv) Percentage >= 60% : Grade D\n",
    ",v) Percentage >= 40%: Grade E,vi) Percentage <40%: Grade F"
   ]
  },
  {
   "cell_type": "code",
   "execution_count": 38,
   "id": "d21d7ac1",
   "metadata": {},
   "outputs": [
    {
     "name": "stdout",
     "output_type": "stream",
     "text": [
      "Enter no of subjects:5\n",
      "Input marks of Phy,chem,Bio,Maths,Comp:\n",
      "98\n",
      "98\n",
      "o\n",
      "value error has occured\n"
     ]
    }
   ],
   "source": [
    "try:\n",
    "    n=int(input(\"Enter no of subjects:\"))\n",
    "    print(\"Input marks of Phy,chem,Bio,Maths,Comp:\")\n",
    "    list=[]\n",
    "    for i in range(0,n):\n",
    "        list.append(int(input()))\n",
    "    print(list)  \n",
    "    score=0\n",
    "    for i in range(len(list)):\n",
    "        score=score+list[i]\n",
    "    print(\"Total Score:\",score)\n",
    "    percent=float((score/500)*100)\n",
    "    print(\"percentage:\",percent)\n",
    "    if(percent>=90): \n",
    "        print(\"A\")\n",
    "    elif(percent>=80):\n",
    "        print(\"B\")\n",
    "    elif(percent>=70):\n",
    "        print(\"c\")\n",
    "    elif(percent>=60):\n",
    "        print(\"D\")\n",
    "    elif(percent>=40):\n",
    "        print(\"E\")\n",
    "    else:\n",
    "        print(\"Fail\")\n",
    "except ValueError:\n",
    "    print(\"value error has occured\")       #value error has occured\n",
    "\n",
    "    "
   ]
  },
  {
   "cell_type": "code",
   "execution_count": 37,
   "id": "a63a5db6",
   "metadata": {},
   "outputs": [
    {
     "name": "stdout",
     "output_type": "stream",
     "text": [
      "Enter no of subjects:5\n",
      "Input marks of Phy,chem,Bio,Maths,Comp:\n",
      "89\n",
      "90\n",
      "78\n",
      "67\n",
      "56\n",
      "[89, 90, 78, 67, 56]\n",
      "Total Score: 380\n",
      "dividing by zero is not possible\n"
     ]
    }
   ],
   "source": [
    "try:\n",
    "    n=int(input(\"Enter no of subjects:\"))\n",
    "    print(\"Input marks of Phy,chem,Bio,Maths,Comp:\")\n",
    "    list=[]\n",
    "    for i in range(0,n):\n",
    "        list.append(int(input()))\n",
    "    print(list)  \n",
    "    score=0\n",
    "    for i in range(len(list)):\n",
    "        score=score+list[i]\n",
    "    print(\"Total Score:\",score)\n",
    "    percent=float((score/0)*100)\n",
    "    print(\"percentage:\",percent)\n",
    "    if(percent>=90): \n",
    "        print(\"A\")\n",
    "    elif(percent>=80):\n",
    "        print(\"B\")\n",
    "    elif(percent>=70):\n",
    "        print(\"c\")\n",
    "    elif(percent>=60):\n",
    "        print(\"D\")\n",
    "    elif(percent>=40):\n",
    "        print(\"E\")\n",
    "    else:\n",
    "        print(\"Fail\")\n",
    "except ZeroDivisionError:\n",
    "    print(\"dividing by zero is not possible\")      "
   ]
  },
  {
   "cell_type": "code",
   "execution_count": 39,
   "id": "b2e5b7c6",
   "metadata": {},
   "outputs": [
    {
     "name": "stdout",
     "output_type": "stream",
     "text": [
      "Enter no of subjects:5\n",
      "Input marks of Phy,chem,Bio,Maths,Comp:\n",
      "89\n",
      "90\n",
      "78\n",
      "67\n",
      "90\n",
      "[89, 90, 78, 67, 90]\n",
      "Total Score: 414\n",
      "percentage: 82.8\n",
      "B\n"
     ]
    }
   ],
   "source": [
    "try:\n",
    "    n=int(input(\"Enter no of subjects:\"))\n",
    "    print(\"Input marks of Phy,chem,Bio,Maths,Comp:\")\n",
    "    list=[]\n",
    "    for i in range(0,n):\n",
    "        list.append(int(input()))\n",
    "    print(list)  \n",
    "    score=0\n",
    "    for i in range(len(list)):\n",
    "        score=score+list[i]\n",
    "    print(\"Total Score:\",score)\n",
    "    percent=float((score/500)*100)\n",
    "    print(\"percentage:\",percent)\n",
    "    if(percent>=90): \n",
    "        print(\"A\")\n",
    "    elif(percent>=80):\n",
    "        print(\"B\")\n",
    "    elif(percent>=70):\n",
    "        print(\"c\")\n",
    "    elif(percent>=60):\n",
    "        print(\"D\")\n",
    "    elif(percent>=40):\n",
    "        print(\"E\")\n",
    "    else:\n",
    "        print(\"Fail\")\n",
    "except ZeroDivisionError:\n",
    "    print(\"dividing by zero is not possible\")      #zero division error has occured"
   ]
  },
  {
   "cell_type": "code",
   "execution_count": 47,
   "id": "4be42ec3",
   "metadata": {},
   "outputs": [
    {
     "name": "stdout",
     "output_type": "stream",
     "text": [
      "Enter a week number:-1\n",
      "Invalid number\n"
     ]
    }
   ],
   "source": [
    "#3.write a python program with exception handling to input the weak number and print the weekday\n",
    "try:\n",
    "    n=int(input(\"Enter a week number:\"))\n",
    "    if n==1:\n",
    "        print(\"Sunday\")\n",
    "    elif n==2:\n",
    "        print(\"Monday\")\n",
    "    elif n==3:\n",
    "        print(\"Tuesday\")\n",
    "    elif n==4:\n",
    "        print(\"Wednesday\")\n",
    "    elif n==5:\n",
    "        print(\"Thursday\")\n",
    "    elif n==6:\n",
    "        print(\"Friday\")\n",
    "    elif n==7:\n",
    "        print(\"Saturday\")\n",
    "    else:\n",
    "        raise ValueError(\"Invalid number\")\n",
    "except ValueError as e:\n",
    "    print(e)\n",
    "except SyntaxError:\n",
    "    print(\"Invalid syntax\")"
   ]
  },
  {
   "cell_type": "code",
   "execution_count": 61,
   "id": "a113dd26",
   "metadata": {},
   "outputs": [
    {
     "name": "stdout",
     "output_type": "stream",
     "text": [
      "variable is not defined\n"
     ]
    }
   ],
   "source": [
    "#2. Write a python program with Exception handling to input electricity unit charges and calculate the total electricity bill \n",
    "#according to the given condition:i)For the first 50 units Rs. 0.50/unit,ii)For the next 100 units Rs. 0.75/unit#iii)For the \n",
    "#next 100 units Rs. 1.20/unit,iv) For units above 250 Rs. 1.50/unit,v) An additional surcharge of 20% is added to the bill.\n",
    "try: \n",
    "    raise NameError(\"variable is not defined\")\n",
    "    amt=0\n",
    "    if(unit<=50): \n",
    "        amt=unit*0.50\n",
    "    elif(unit<=150):\n",
    "        amt=25+(unit-50)*0.75\n",
    "    elif(unit<=250):\n",
    "        amt=100+(unit-150) *1.20\n",
    "    else:\n",
    "        amt=220+(unit-250)*1.50\n",
    "    total=0\n",
    "    surcharge=0\n",
    "    surcharge=amt*20/100 \n",
    "    total=amt+surcharge\n",
    "    print(\"Total Electricity Bill:\", total)\n",
    "except NameError as n:\n",
    "    print(n)"
   ]
  },
  {
   "cell_type": "code",
   "execution_count": 63,
   "id": "ad84feb8",
   "metadata": {},
   "outputs": [
    {
     "name": "stdout",
     "output_type": "stream",
     "text": [
      "total unit consumed:90\n",
      "Denominator is Zero\n"
     ]
    }
   ],
   "source": [
    "try: \n",
    "    unit=int(input(\"total unit consumed:\"))\n",
    "    amt=0\n",
    "    if(unit<=50): \n",
    "        amt=unit*0.50\n",
    "    elif(unit<=150):\n",
    "        amt=25+(unit-50)*0.75\n",
    "    elif(unit<=250):\n",
    "        amt=100+(unit-150) *1.20\n",
    "    else:\n",
    "        amt=220+(unit-250)*1.50\n",
    "    total=0\n",
    "    surcharge=0\n",
    "    surcharge=amt*20/0\n",
    "    total=amt+surcharge\n",
    "    print(\"Total Electricity Bill:\", total)\n",
    "except ZeroDivisionError:\n",
    "    print(\"Denominator is Zero\")\n",
    "except NameError as n:\n",
    "    print(n)"
   ]
  },
  {
   "cell_type": "code",
   "execution_count": 64,
   "id": "89738a09",
   "metadata": {},
   "outputs": [
    {
     "name": "stdout",
     "output_type": "stream",
     "text": [
      "total unit consumed:i0k\n",
      "value error\n"
     ]
    }
   ],
   "source": [
    "try: \n",
    "    unit=int(input(\"total unit consumed:\"))\n",
    "    amt=0\n",
    "    if(unit<=50): \n",
    "        amt=unit*0.50\n",
    "    elif(unit<=150):\n",
    "        amt=25+(unit-50)*0.75\n",
    "    elif(unit<=250):\n",
    "        amt=100+(unit-150) *1.20\n",
    "    else:\n",
    "        amt=220+(unit-250)*1.50\n",
    "    total=0\n",
    "    surcharge=0\n",
    "    surcharge=amt*20/100 \n",
    "    total=amt+surcharge\n",
    "    print(\"Total Electricity Bill:\", total)\n",
    "except ValueError:\n",
    "    print(\"value error\")"
   ]
  },
  {
   "cell_type": "code",
   "execution_count": 69,
   "id": "caa71d79",
   "metadata": {},
   "outputs": [
    {
     "name": "stdout",
     "output_type": "stream",
     "text": [
      "total unit consumed:700\n",
      "Total Electricity Bill: 1074.0\n"
     ]
    }
   ],
   "source": [
    "unit=int(input(\"total unit consumed:\")) \n",
    "amt=0\n",
    "if(unit<=50): \n",
    "    amt=unit*0.50\n",
    "elif(unit<=150):\n",
    "    amt=25+(unit-50)*0.75\n",
    "elif(unit<=250):\n",
    "    amt=100+(unit-150) *1.20\n",
    "else:\n",
    "    amt=220+(unit-250)*1.50\n",
    "total=0\n",
    "surcharge=0\n",
    "surcharge=amt*20/100 \n",
    "total=amt+surcharge\n",
    "print(\"Total Electricity Bill:\", total)"
   ]
  },
  {
   "cell_type": "code",
   "execution_count": 8,
   "id": "55202a90",
   "metadata": {},
   "outputs": [
    {
     "name": "stdout",
     "output_type": "stream",
     "text": [
      "Most frequent words in the file:\n",
      "harry: 3\n",
      "and: 3\n",
      "his: 2\n",
      "are: 2\n",
      "potter: 1\n",
      "is: 1\n",
      "my: 1\n",
      "favourite: 1\n",
      "book.: 1\n",
      "it: 1\n",
      "revolves: 1\n",
      "around: 1\n",
      "a: 1\n",
      "11: 1\n",
      "year: 1\n",
      "old: 1\n",
      "orpan: 1\n",
      "boy's: 1\n",
      "journey: 1\n",
      "in: 1\n",
      "the: 1\n",
      "wizarding: 1\n",
      "world.: 1\n",
      "lives: 1\n",
      "with: 1\n",
      "uncle: 1\n",
      ",aunt: 1\n",
      "cousin.: 1\n",
      "friends: 1\n",
      "ron: 1\n",
      "hermoine.: 1\n",
      "'s: 1\n",
      "parents: 1\n",
      "james: 1\n",
      "lily: 1\n",
      "potter.: 1\n"
     ]
    }
   ],
   "source": [
    "#5.Write a Python program for finding the most frequent words in a text read from a file,i) Initially open the text file in \n",
    "#,read mode,ii) Make all the letters in the document into lowercase letters and split the words in each line,iii) Get the words\n",
    "#in an order,iv) Sort the words for finding the most frequent words in the file.\n",
    "from collections import Counter\n",
    "\n",
    "def most_frequent_words(file_path):\n",
    "    try:\n",
    "        with open(\"C:/Users/Veena/Desktop/files/sample.txt\", 'r') as file:\n",
    "            text = file.read().lower()\n",
    "            words = text.split()\n",
    "            word_counts = Counter(words)\n",
    "            sorted_words = sorted(word_counts.items(), key=lambda x: x[1], reverse=True)\n",
    "            return sorted_words\n",
    "    except FileNotFoundError:\n",
    "        print(\"Error: File not found.\")\n",
    "    except Exception as e:\n",
    "        print(f\"Error: {e}\")\n",
    "file_path =\"C:/Users/Veena/Desktop/files/sample.txt\"  \n",
    "result = most_frequent_words(file_path)\n",
    "if result:\n",
    "    print(\"Most frequent words in the file:\")\n",
    "    for word, count in result:\n",
    "        print(f\"{word}: {count}\")"
   ]
  },
  {
   "cell_type": "code",
   "execution_count": null,
   "id": "27434682",
   "metadata": {},
   "outputs": [],
   "source": [
    "#4.implement word count in command line arguments\n",
    "#wordcount.py\n",
    "def count_words(filename):\n",
    "    with open(apple.txt,'r') as file:\n",
    "        text = file.read()\n",
    "        words = text.split()\n",
    "        word_count = {}\n",
    "        for word in words:\n",
    "            word = word.lower().strip('.,!?()\"\\'')  # Basic cleaning\n",
    "            if word not in word_count:\n",
    "                word_count[word] = 1\n",
    "            else:\n",
    "                word_count[word] += 1\n",
    "                \n",
    "    return word_count\n"
   ]
  },
  {
   "cell_type": "code",
   "execution_count": null,
   "id": "86d615c1",
   "metadata": {},
   "outputs": [],
   "source": [
    "#command.py\n",
    "import sys\n",
    "from wordcount import count_words\n",
    "\n",
    "def main():\n",
    "    if len(sys.argv) != 2:\n",
    "        print(\"Usage: command.py <filename>\")\n",
    "        return\n",
    "\n",
    "    filename = sys.argv[1]\n",
    "    word_counts = count_words(filename)\n",
    "\n",
    "    for word, count in word_counts.items():\n",
    "        print(f\"{word}: {count}\")\n",
    "\n",
    "if __name__ == \"__main__\":\n",
    "    main()\n"
   ]
  },
  {
   "cell_type": "code",
   "execution_count": null,
   "id": "ee1f7dea",
   "metadata": {},
   "outputs": [],
   "source": [
    "#6.\n",
    "import sys\n",
    "\n",
    "def process_files(input_file_path, output_file_path):\n",
    "    try:\n",
    "        if not input_file_path or not output_file_path:\n",
    "            raise ValueError(\"Both input and output file paths must be provided.\")\n",
    "        try:\n",
    "            with open(input_file_path, 'r') as input_file:\n",
    "                data = input_file.read()       \n",
    "        except FileNotFoundError:\n",
    "            raise FileNotFoundError(f\"Input file '{input_file_path}' not found.\")\n",
    "        except PermissionError:\n",
    "            raise PermissionError(f\"Permission denied for input file '{input_file_path}'.\")\n",
    "        try:\n",
    "            with open(output_file_path, 'w') as output_file:\n",
    "                output_file.write(data)\n",
    "        except PermissionError:\n",
    "            raise PermissionError(f\"Permission denied for output file '{output_file_path}'.\")\n",
    "\n",
    "    except (ValueError, FileNotFoundError, PermissionError) as e:\n",
    "        print(f\"Error: {e}\")\n",
    "        sys.exit(1)\n",
    "\n",
    "if __name__ == \"__main__\":\n",
    "    if len(sys.argv) != 3:\n",
    "        print(\"Usage: python program.py <input_file_path> <output_file_path>\")\n",
    "        sys.exit(1)\n",
    "\n",
    "    input_file_path = sys.argv[1]\n",
    "    output_file_path = sys.argv[2]\n",
    "\n",
    "    process_files(input_file_path, output_file_path)\n"
   ]
  }
 ],
 "metadata": {
  "kernelspec": {
   "display_name": "Python 3 (ipykernel)",
   "language": "python",
   "name": "python3"
  },
  "language_info": {
   "codemirror_mode": {
    "name": "ipython",
    "version": 3
   },
   "file_extension": ".py",
   "mimetype": "text/x-python",
   "name": "python",
   "nbconvert_exporter": "python",
   "pygments_lexer": "ipython3",
   "version": "3.11.4"
  }
 },
 "nbformat": 4,
 "nbformat_minor": 5
}

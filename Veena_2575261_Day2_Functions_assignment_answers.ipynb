{
 "cells": [
  {
   "cell_type": "markdown",
   "id": "9a354785",
   "metadata": {},
   "source": [
    "# FUNCTIONS"
   ]
  },
  {
   "cell_type": "code",
   "execution_count": 3,
   "id": "39cfb4bf",
   "metadata": {},
   "outputs": [
    {
     "name": "stdout",
     "output_type": "stream",
     "text": [
      "Enter n:6\n",
      "90\n",
      "1\n",
      "6\n",
      "87\n",
      "15\n",
      "24\n",
      "[90, 1, 6, 87, 15, 24]\n",
      "Even nos in list: [90, 6, 24]\n",
      "Odd nos in list: [1, 87, 15]\n"
     ]
    }
   ],
   "source": [
    "#1.Write a python Function to list even and odd numbers in a list.\n",
    "def func(list):\n",
    "    evenlist=[] \n",
    "    oddlist=[] \n",
    "    for i in list: \n",
    "        if(i%2==0): \n",
    "            evenlist.append(i) \n",
    "        else: \n",
    "            oddlist.append(i) \n",
    "    print(\"Even nos in list:\", evenlist) \n",
    "    print(\"Odd nos in list:\", oddlist) \n",
    "n=int(input(\"Enter n:\"))\n",
    "list=[]\n",
    "for i in range(0,n):\n",
    "    list.append(int(input()))\n",
    "print(list) \n",
    "func(list)"
   ]
  },
  {
   "cell_type": "code",
   "execution_count": 7,
   "id": "54df2637",
   "metadata": {},
   "outputs": [
    {
     "name": "stdout",
     "output_type": "stream",
     "text": [
      "Enter n:8\n",
      "19\n",
      "6\n",
      "8\n",
      "20\n",
      "13\n",
      "7\n",
      "6\n",
      "1\n",
      "[19, 6, 8, 20, 13, 7, 6, 1]\n",
      "Count of even nos: 4\n"
     ]
    }
   ],
   "source": [
    "#2.Write and run a Python program that asks the user to enter 8 integers (one at a time), and then prints out how many\n",
    "# of those integers were even numbers. For example, if the user entered 19, 6, 9, 20, 13, 7, 6, and 1, then your program \n",
    "# should print out 3 since 3 of those numbers were even.\n",
    "def func(list):\n",
    "    evenlist=[] \n",
    "    evencount=0\n",
    "    for i in list: \n",
    "        if(i%2==0): \n",
    "            evencount+=1\n",
    "    print(\"Count of even nos:\",evencount)\n",
    "n=int(input(\"Enter n:\"))\n",
    "list=[]\n",
    "for i in range(0,n):\n",
    "    list.append(int(input()))\n",
    "print(list) \n",
    "func(list)"
   ]
  },
  {
   "cell_type": "code",
   "execution_count": 9,
   "id": "106da49f",
   "metadata": {},
   "outputs": [
    {
     "name": "stdout",
     "output_type": "stream",
     "text": [
      "Enter String:HEllo WOrld\n",
      "No. of vowels : 3\n"
     ]
    }
   ],
   "source": [
    "#7.Write a python Function to count the number of vowels in a string.\n",
    "def vowel(string):\n",
    "    count=0\n",
    "    for i in string:\n",
    "        if(i=='a' or i=='e' or i=='i' or i=='o' or i=='u' or i=='A' or i=='E' or i=='I' or i=='O' or i=='U'):\n",
    "            count+=1    \n",
    "    print(\"No. of vowels :\", count)\n",
    "string=input(\"Enter String:\")\n",
    "vowel(string)"
   ]
  },
  {
   "cell_type": "code",
   "execution_count": 12,
   "id": "dceaebc2",
   "metadata": {},
   "outputs": [
    {
     "name": "stdout",
     "output_type": "stream",
     "text": [
      "Enter no:5\n",
      "Factorial is: 120\n"
     ]
    }
   ],
   "source": [
    "#8.Write a python Function for finding factorial for the given number using a recursive function.\n",
    "def recursionfact(n):  \n",
    "    if n==1:  \n",
    "        return n  \n",
    "    else:  \n",
    "        return n*recursionfact(n-1)  \n",
    "n=int(input(\"Enter no:\"))  \n",
    "if n<0:  \n",
    "    print(\"Factorial not possible for -ve nos\")  \n",
    "elif n==0:  \n",
    "    print(\"Factorial of 0:1\")  \n",
    "else:  \n",
    "    print(\"Factorial is:\",recursionfact(n))"
   ]
  },
  {
   "cell_type": "code",
   "execution_count": 15,
   "id": "ab964359",
   "metadata": {},
   "outputs": [
    {
     "name": "stdout",
     "output_type": "stream",
     "text": [
      "Enter n:8\n",
      "0\n",
      "1\n",
      "1  \n",
      "2  \n",
      "3  \n",
      "5  \n",
      "8  \n",
      "13  \n"
     ]
    }
   ],
   "source": [
    "#9.Write a python Function for generating the Fibonacci series using the function.\n",
    "def fibonacci(n):\n",
    "    a=0\n",
    "    b=1\n",
    "    if n==1:\n",
    "        print(a)\n",
    "    else:\n",
    "        print(a)\n",
    "        print(b)\n",
    "        for i in range(2,n):\n",
    "            c=a+b\n",
    "            a=b\n",
    "            b=c\n",
    "            print(c)\n",
    "n=int(input(\"Enter n:\"))            \n",
    "fibonacci(n)"
   ]
  },
  {
   "cell_type": "code",
   "execution_count": 19,
   "id": "ffd46f51",
   "metadata": {},
   "outputs": [
    {
     "name": "stdout",
     "output_type": "stream",
     "text": [
      "Enter n:1456\n",
      "Reverse of the given no: 6541\n"
     ]
    }
   ],
   "source": [
    "#10.Python program to display the given integer in reverse order using the function without an in-built function\n",
    "def reverse(n):\n",
    "    reverse= 0\n",
    "    while n!=0:\n",
    "        rem= n%10\n",
    "        reverse= reverse*10+rem\n",
    "        n//= 10\n",
    "    print(\"Reverse of the given no:\",reverse)\n",
    "n=int(input(\"Enter n:\"))\n",
    "reverse(n)"
   ]
  },
  {
   "cell_type": "code",
   "execution_count": 22,
   "id": "b1e5f4e2",
   "metadata": {},
   "outputs": [
    {
     "name": "stdout",
     "output_type": "stream",
     "text": [
      "Enter n:1234\n",
      "Sum of digits: 10\n",
      "No of digits: 4\n"
     ]
    }
   ],
   "source": [
    "#12.Write a python function to find the no of digits and sum of digits for given integer\n",
    "def sum(n):\n",
    "    sum = 0\n",
    "    for digit in str(n): \n",
    "      sum += int(digit)      \n",
    "    print(\"Sum of digits:\",sum)\n",
    "\n",
    "def count(n):\n",
    "    count = 0\n",
    "    while n!=0:\n",
    "        n//=10\n",
    "        count+=1\n",
    "    print(\"No of digits:\",count)\n",
    "   \n",
    "n=int(input(\"Enter n:\"))\n",
    "sum(n)  #sum of digits\n",
    "count(n)  #no of digits"
   ]
  },
  {
   "cell_type": "code",
   "execution_count": 31,
   "id": "672d9dab",
   "metadata": {},
   "outputs": [
    {
     "name": "stdout",
     "output_type": "stream",
     "text": [
      "Sum of multiples of 3 or 5: 57918\n"
     ]
    }
   ],
   "source": [
    "#4Write a Python program to compute the sum of all the multiples of 3 or 5 below 500.\n",
    "def sum(n):\n",
    "    sum = 0\n",
    "    for i in range(n):\n",
    "        if (i%3 == 0 or i%5 == 0):\n",
    "            sum+=i\n",
    "    print(\"Sum of multiples of 3 or 5:\",sum)\n",
    "n=500\n",
    "sum(n)"
   ]
  },
  {
   "cell_type": "code",
   "execution_count": 32,
   "id": "286ad045",
   "metadata": {},
   "outputs": [
    {
     "name": "stdout",
     "output_type": "stream",
     "text": [
      "200 202 204 206 208 210 212 214 216 218 220 222 224 226 228 230 232 234 236 238 240 242 244 246 248 250 252 254 256 258 260 262 264 266 268 270 272 274 276 278 280 282 284 286 288 290 292 294 296 298 300 "
     ]
    }
   ],
   "source": [
    "#11.write a python program to display all integers with the range 200 -300 for sum of digits is an even number\n",
    "def even(a,b):\n",
    "    for n in range(a,b+1):\n",
    "        if n%2==0:\n",
    "            print(n, end=\" \")\n",
    "a=200 \n",
    "b=300 \n",
    "even(a,b)"
   ]
  },
  {
   "cell_type": "code",
   "execution_count": 1,
   "id": "7df43633",
   "metadata": {},
   "outputs": [
    {
     "name": "stdout",
     "output_type": "stream",
     "text": [
      "True\n",
      "False\n",
      "True\n"
     ]
    }
   ],
   "source": [
    "# 13.sorted list,returns true if sorted in ascending order or false,if duplicates is present return true\n",
    "def is_sorted(list):\n",
    "    if sorted(list)==list:\n",
    "        return True\n",
    "    else:\n",
    "        return False          \n",
    "print(is_sorted([2,18,96,100]))      # returns true if sorted in ascending order\n",
    "print(is_sorted([45,2,90,1]))       # returns false if not in ascending order\n",
    "print(is_sorted([1,7,7,9]))         # returns true if it has duplicates"
   ]
  },
  {
   "cell_type": "code",
   "execution_count": 2,
   "id": "82454b8c",
   "metadata": {},
   "outputs": [
    {
     "name": "stdout",
     "output_type": "stream",
     "text": [
      "[20, 66, 143, 227, 326]\n"
     ]
    }
   ],
   "source": [
    "# 14.write functions called nested_sum that takes a list of integers and adds up the elements from all the nested lists \n",
    "#and cumsum that takes a list of numbers and returns the cumulative sum; that is,\n",
    "#a new list where the ith element is the sum of the first i + 1 elements from the original list.\n",
    "\n",
    "def cumsum(list):\n",
    "    sum=0\n",
    "    cumlist=[]\n",
    "    for i in list:\n",
    "        sum=sum+i\n",
    "        cumlist.append(sum)\n",
    "    return cumlist\n",
    "\n",
    "list=[20,46,77,84,99]\n",
    "print(cumsum(list))"
   ]
  },
  {
   "cell_type": "code",
   "execution_count": 7,
   "id": "2696695a",
   "metadata": {},
   "outputs": [
    {
     "name": "stdout",
     "output_type": "stream",
     "text": [
      "19 58 29 88 44 22 11 34 17 52 26 13 40 20 10 5 16 8 4 2 1\n",
      "8 4 2 1\n"
     ]
    }
   ],
   "source": [
    "#3Write a Python program where you take any positive integer n, if n is even, divide it by 2 to get n/ 2.\n",
    "#If n is odd, multiply it by 3 and add 1 to obtain 3n+1. Repeat the process until you reach 1.\n",
    "#the given prblm statement is collatz \n",
    "def Collatz(n):    \n",
    "    while n != 1:      #loop continues untill n is 1\n",
    "        print(n,end=' ')       \n",
    "        if n & 1:          #if n is odd\n",
    "            n = 3 * n + 1\n",
    "        else:\n",
    "            n = n // 2    #if n is even\n",
    "    print(n)\n",
    "Collatz(19)\n",
    "\n",
    "Collatz(8)"
   ]
  },
  {
   "cell_type": "code",
   "execution_count": 15,
   "id": "e83cae43",
   "metadata": {},
   "outputs": [
    {
     "name": "stdout",
     "output_type": "stream",
     "text": [
      "Enter n:20\n",
      "[2, 3, 5, 7, 11, 13, 17, 19]\n"
     ]
    }
   ],
   "source": [
    "#5.list of n prime number program in python using function\n",
    "def primenos(n):\n",
    "    p=[]\n",
    "    for i in range(2, n + 1):\n",
    "        for j in range(2, int(i ** 0.5) + 1):\n",
    "            if i%j == 0:\n",
    "                break\n",
    "        else:\n",
    "            p.append(i)\n",
    "    return p\n",
    "n=int(input(\"Enter n:\"))\n",
    "primelist = primenos(n)\n",
    "print(primelist)"
   ]
  },
  {
   "cell_type": "code",
   "execution_count": 16,
   "id": "6d0b8fb2",
   "metadata": {},
   "outputs": [
    {
     "name": "stdout",
     "output_type": "stream",
     "text": [
      "[62, 104, 54, 64]\n",
      "[39, 77, 31, 47]\n",
      "[20, 42, 17, 26]\n"
     ]
    }
   ],
   "source": [
    "#6. To write a Python program to compute matrix multiplication.\n",
    "def matrix_multiply_recursive(a,b):\n",
    "    if len(a[0]) != len(b):\n",
    "        raise ValueError(\"Invalid matrix dimensions\")\n",
    "    result = [[0 for j in range(len(b[0]))] for i in range(len(a))]\n",
    "    def multiply(a,b, result, i, j, k):\n",
    "        if i >= len(a):\n",
    "            return\n",
    "        if j >= len(b[0]):\n",
    "            return multiply(a,b, result, i+1, 0, 0)\n",
    "        if k >= len(b):\n",
    "            return multiply(a,b, result, i, j+1, 0)\n",
    "        result[i][j] += a[i][k]*b[k][j]\n",
    "        multiply(a, b, result, i, j, k+1)\n",
    "    multiply(a, b, result, 0, 0, 0)\n",
    "    return result\n",
    "a=[[6, 6, 2], [2, 4, 5], [1, 2, 3]]\n",
    "b=[[3, 9, 8, 7], [7, 6, 0, 2], [1, 7, 3, 5]]\n",
    " \n",
    "result = matrix_multiply_recursive(a,b)\n",
    "for row in result:\n",
    "    print(row)"
   ]
  },
  {
   "cell_type": "code",
   "execution_count": null,
   "id": "7230735b",
   "metadata": {},
   "outputs": [],
   "source": []
  }
 ],
 "metadata": {
  "kernelspec": {
   "display_name": "Python 3 (ipykernel)",
   "language": "python",
   "name": "python3"
  },
  "language_info": {
   "codemirror_mode": {
    "name": "ipython",
    "version": 3
   },
   "file_extension": ".py",
   "mimetype": "text/x-python",
   "name": "python",
   "nbconvert_exporter": "python",
   "pygments_lexer": "ipython3",
   "version": "3.11.4"
  }
 },
 "nbformat": 4,
 "nbformat_minor": 5
}

{
 "cells": [
  {
   "cell_type": "code",
   "execution_count": 5,
   "id": "3d4d33b7",
   "metadata": {},
   "outputs": [
    {
     "name": "stdout",
     "output_type": "stream",
     "text": [
      "Sorted List:\n",
      " [1, 2, 7, 10, 14, 17]\n",
      "\n",
      "No of comparisions:\t 15\n",
      "\n",
      "No of swap:\t 4\n"
     ]
    }
   ],
   "source": [
    "#bubble sort\n",
    "def bubble_sort(lst):\n",
    "    n=len(lst)\n",
    "    num_comparision=0\n",
    "    num_swap=0\n",
    "\n",
    "    for i in range(n-1,0,-1):\n",
    "        for j in range(i):\n",
    "            num_comparision+=1\n",
    "            if lst[j]>lst[j+1]:\n",
    "                lst[j+1],lst[j]=lst[j],lst[j+1]\n",
    "                num_swap+=1\n",
    "\n",
    "    print('Sorted List:\\n',lst)\n",
    "    print()\n",
    "    print('No of comparisions:\\t',num_comparision)\n",
    "    print()\n",
    "    print('No of swap:\\t',num_swap)\n",
    "\n",
    "bubble_sort([7,1,10,2,17,14])"
   ]
  },
  {
   "cell_type": "code",
   "execution_count": 10,
   "id": "a2f76a63",
   "metadata": {},
   "outputs": [
    {
     "name": "stdout",
     "output_type": "stream",
     "text": [
      "The unsorted list is: [10, 5, 13, 8, 2]\n",
      "The sorted list is: [2, 5, 8, 10, 13]\n",
      "Number of swaps: 7\n"
     ]
    }
   ],
   "source": [
    "#4.insertion sort\n",
    "def insertion_sort(list1):\n",
    "    swaps = 0\n",
    "    for i in range(1, len(list1)):\n",
    "        value = list1[i]\n",
    "        j = i - 1\n",
    "        while j >= 0 and value < list1[j]:\n",
    "            list1[j + 1] = list1[j]\n",
    "            j -= 1\n",
    "            swaps += 1  \n",
    "        list1[j + 1] = value\n",
    "    return list1, swaps  \n",
    "list1 = [10, 5, 13, 8, 2]\n",
    "print(\"The unsorted list is:\", list1)\n",
    "sorted_list, swap_count = insertion_sort(list1)\n",
    "print(\"The sorted list is:\", sorted_list)\n",
    "print(\"Number of swaps:\", swap_count)\n"
   ]
  },
  {
   "cell_type": "code",
   "execution_count": 12,
   "id": "cec41a32",
   "metadata": {},
   "outputs": [
    {
     "name": "stdout",
     "output_type": "stream",
     "text": [
      "[99, 25, 7, 8, 1]\n",
      "Sorted array is:\n",
      "1 7 8 25 99 "
     ]
    }
   ],
   "source": [
    "#quick sort\n",
    "def partition(arr,low,high):\n",
    "    i = ( low-1 )\n",
    "    pivot = arr[high] \n",
    "    for j in range(low , high):\n",
    "        if arr[j] <= pivot:\n",
    "            i = i+1\n",
    "            arr[i],arr[j] = arr[j],arr[i]\n",
    "    arr[i+1],arr[high] = arr[high],arr[i+1]\n",
    "    return ( i+1 )\n",
    "def quickSort(arr,low,high):\n",
    "    if low < high:\n",
    "        pi = partition(arr,low,high)\n",
    "        quickSort(arr, low, pi-1)\n",
    "        quickSort(arr, pi+1, high)\n",
    "# main\n",
    "arr = [99,25,7,8,1]\n",
    "print(arr)\n",
    "n = len(arr)\n",
    "quickSort(arr,0,n-1)\n",
    "print (\"Sorted array is:\")\n",
    "for i in range(n):\n",
    "    print (arr[i],end=\" \")"
   ]
  },
  {
   "cell_type": "code",
   "execution_count": 13,
   "id": "153694f5",
   "metadata": {},
   "outputs": [
    {
     "name": "stdout",
     "output_type": "stream",
     "text": [
      "Sorted list: [11, 12, 22, 25, 34, 64, 90]\n",
      "No of swaps: 7\n"
     ]
    }
   ],
   "source": [
    "#3.selection sort\n",
    "def selection_sort(arr):\n",
    "    sorted_list = [] \n",
    "    swap=0\n",
    "    while arr:  \n",
    "        min_value = min(arr)  \n",
    "        sorted_list.append(min_value) \n",
    "        arr.remove(min_value) \n",
    "        swap+=1\n",
    "    return sorted_list\n",
    "\n",
    "unsorted_list = [64, 34, 25, 12, 22, 11, 90]\n",
    "sorted_list = selection_sort(unsorted_list)\n",
    "print(\"Sorted list:\", sorted_list)\n",
    "print(\"No of swaps:\",swap_count)"
   ]
  },
  {
   "cell_type": "code",
   "execution_count": 14,
   "id": "f6f779b8",
   "metadata": {},
   "outputs": [
    {
     "name": "stdout",
     "output_type": "stream",
     "text": [
      "Sorted list: [3, 9, 10, 27, 38, 43, 82]\n"
     ]
    }
   ],
   "source": [
    "#5.merge sort\n",
    "def merge_sort(arr):\n",
    "    if len(arr)<=1:\n",
    "        return arr \n",
    "    mid = len(arr)//2\n",
    "    left_half = arr[:mid]\n",
    "    right_half = arr[mid:]\n",
    "    left_half = merge_sort(left_half)\n",
    "    right_half = merge_sort(right_half)\n",
    "    return merge(left_half, right_half)\n",
    "\n",
    "def merge(left, right):\n",
    "    result = []\n",
    "    i = j = 0\n",
    "\n",
    "    while i < len(left) and j < len(right):\n",
    "        if left[i] < right[j]:\n",
    "            result.append(left[i])\n",
    "            i += 1\n",
    "        else:\n",
    "            result.append(right[j])\n",
    "            j += 1\n",
    "    result.extend(left[i:])\n",
    "    result.extend(right[j:])\n",
    "    \n",
    "    return result\n",
    "\n",
    "\n",
    "unsorted_list = [38, 27, 43, 3, 9, 82, 10]\n",
    "sorted_list = merge_sort(unsorted_list)\n",
    "print(\"Sorted list:\", sorted_list)\n"
   ]
  },
  {
   "cell_type": "code",
   "execution_count": 15,
   "id": "b5feefaf",
   "metadata": {},
   "outputs": [
    {
     "name": "stdout",
     "output_type": "stream",
     "text": [
      "Sorted list: [2, 12, 37, 75, 99]\n"
     ]
    }
   ],
   "source": [
    "#shell sort\n",
    "def shell_sort(arr):\n",
    "    n = len(arr)\n",
    "    gap = n // 2  \n",
    "    while gap > 0:\n",
    "        for i in range(gap, n):\n",
    "            temp = arr[i]\n",
    "            j = i\n",
    "            while j >= gap and arr[j - gap] > temp:\n",
    "                arr[j] = arr[j - gap]\n",
    "                j -= gap\n",
    "            arr[j] = temp\n",
    "        gap //= 2  # Reduce the gap\n",
    "\n",
    "# Example usage:\n",
    "unsorted_list = [99,37,2,75,12]\n",
    "shell_sort(unsorted_list)\n",
    "print(\"Sorted list:\", unsorted_list)\n"
   ]
  },
  {
   "cell_type": "code",
   "execution_count": 4,
   "id": "dcd3effa",
   "metadata": {},
   "outputs": [
    {
     "name": "stdout",
     "output_type": "stream",
     "text": [
      "1-> 2->3\n",
      "2-> \n",
      "3-> 4\n",
      "4-> 5\n",
      "5-> \n"
     ]
    }
   ],
   "source": [
    "#implementation of graph:\n",
    "class Graph:\n",
    "    def __init__(self):\n",
    "        self.graph={}\n",
    "    \n",
    "    def add_vertex(self,vertex):\n",
    "        if vertex not in self.graph:\n",
    "            self.graph[vertex]=[]\n",
    "    \n",
    "    def add_edge(self,vertex1,vertex2):\n",
    "        if vertex1 in self.graph and vertex2 in self.graph:\n",
    "            self.graph[vertex1].append(vertex2)  \n",
    "    \n",
    "    def display(self):\n",
    "        for vertex, neighbors in self.graph.items():\n",
    "            print(f\"{vertex}-> {'->'.join(neighbors)}\")\n",
    "\n",
    "graph = Graph()\n",
    "\n",
    "graph.add_vertex(\"1\")\n",
    "graph.add_vertex(\"2\")\n",
    "graph.add_vertex(\"3\")\n",
    "graph.add_vertex(\"4\")\n",
    "graph.add_vertex(\"5\")\n",
    "\n",
    "graph.add_edge(\"1\", \"2\")\n",
    "graph.add_edge(\"1\", \"3\")\n",
    "graph.add_edge(\"3\", \"4\")\n",
    "graph.add_edge(\"4\", \"5\")\n",
    "\n",
    "graph.display()\n"
   ]
  },
  {
   "cell_type": "code",
   "execution_count": 5,
   "id": "f17e6216",
   "metadata": {},
   "outputs": [
    {
     "name": "stdout",
     "output_type": "stream",
     "text": [
      "BFS starting from vertex 2:\n",
      "2 0 3 1 "
     ]
    }
   ],
   "source": [
    "#bfs\n",
    "from collections import defaultdict\n",
    "\n",
    "class Graph:\n",
    "    def __init__(self):\n",
    "        self.graph = defaultdict(list)\n",
    "\n",
    "    def add_edge(self, u, v):\n",
    "        self.graph[u].append(v)\n",
    "\n",
    "    def bfs(self, start_vertex):\n",
    "        visited = set()\n",
    "        queue = []\n",
    "        \n",
    "        visited.add(start_vertex)\n",
    "        queue.append(start_vertex)\n",
    "\n",
    "        while queue:\n",
    "            vertex = queue.pop(0)\n",
    "            print(vertex, end=' ')\n",
    "\n",
    "            for neighbor in self.graph[vertex]:\n",
    "                if neighbor not in visited:\n",
    "                    visited.add(neighbor)\n",
    "                    queue.append(neighbor)\n",
    "\n",
    "g = Graph()\n",
    "g.add_edge(0, 1)\n",
    "g.add_edge(0, 2)\n",
    "g.add_edge(1, 2)\n",
    "g.add_edge(2, 0)\n",
    "g.add_edge(2, 3)\n",
    "g.add_edge(3, 3)\n",
    "\n",
    "print(\"BFS starting from vertex 2:\")\n",
    "g.bfs(2)\n"
   ]
  },
  {
   "cell_type": "code",
   "execution_count": 7,
   "id": "2f565bfb",
   "metadata": {},
   "outputs": [
    {
     "name": "stdout",
     "output_type": "stream",
     "text": [
      "DFS starting from vertex 2:\n",
      "1 2 0 3 "
     ]
    }
   ],
   "source": [
    "#dfs\n",
    "from collections import defaultdict\n",
    "\n",
    "class Graph:\n",
    "    def __init__(self):\n",
    "        self.graph = defaultdict(list)\n",
    "\n",
    "    def add_edge(self, u, v):\n",
    "        self.graph[u].append(v)\n",
    "\n",
    "    def dfs_recursive(self, vertex, visited):\n",
    "        visited.add(vertex)\n",
    "        print(vertex, end=' ')\n",
    "\n",
    "        for neighbor in self.graph[vertex]:\n",
    "            if neighbor not in visited:\n",
    "                self.dfs_recursive(neighbor, visited)\n",
    "\n",
    "    def dfs(self, start_vertex):\n",
    "        visited = set()\n",
    "        self.dfs_recursive(start_vertex, visited)\n",
    "\n",
    "g = Graph()\n",
    "g.add_edge(0, 1)\n",
    "g.add_edge(0, 2)\n",
    "g.add_edge(1, 2)\n",
    "g.add_edge(2, 0)\n",
    "g.add_edge(2, 3)\n",
    "g.add_edge(3, 3)\n",
    "\n",
    "print(\"DFS starting from vertex 1:\")\n",
    "g.dfs(1)\n"
   ]
  },
  {
   "cell_type": "code",
   "execution_count": null,
   "id": "ce32e339",
   "metadata": {},
   "outputs": [],
   "source": []
  }
 ],
 "metadata": {
  "kernelspec": {
   "display_name": "Python 3 (ipykernel)",
   "language": "python",
   "name": "python3"
  },
  "language_info": {
   "codemirror_mode": {
    "name": "ipython",
    "version": 3
   },
   "file_extension": ".py",
   "mimetype": "text/x-python",
   "name": "python",
   "nbconvert_exporter": "python",
   "pygments_lexer": "ipython3",
   "version": "3.11.4"
  }
 },
 "nbformat": 4,
 "nbformat_minor": 5
}

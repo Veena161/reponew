{
 "cells": [
  {
   "cell_type": "code",
   "execution_count": 2,
   "id": "669f241c",
   "metadata": {},
   "outputs": [
    {
     "name": "stdout",
     "output_type": "stream",
     "text": [
      "<mysql.connector.connection_cext.CMySQLConnection object at 0x00000188F2BB5610>\n"
     ]
    }
   ],
   "source": [
    "import mysql.connector\n",
    "\n",
    "conn=mysql.connector.connect(host=\"127.0.0.1\",user=\"root\",password=\"HArry@#11\",database=\"mla\")\n",
    "\n",
    "print(conn)"
   ]
  },
  {
   "cell_type": "code",
   "execution_count": 3,
   "id": "77d59775",
   "metadata": {},
   "outputs": [
    {
     "name": "stdout",
     "output_type": "stream",
     "text": [
      "('emptable',)\n",
      "('information_schema',)\n",
      "('mla',)\n",
      "('mysql',)\n",
      "('performance_schema',)\n",
      "('problem',)\n",
      "('sakila',)\n",
      "('shirts_db',)\n",
      "('sys',)\n",
      "('world',)\n"
     ]
    }
   ],
   "source": [
    "curs=conn.cursor()\n",
    "curs.execute(\"show databases\")\n",
    "for i in curs:\n",
    "    print(i)"
   ]
  },
  {
   "cell_type": "code",
   "execution_count": 4,
   "id": "fbf5354b",
   "metadata": {},
   "outputs": [],
   "source": [
    "#4Database\n",
    "curs=conn.cursor()\n",
    "curs.execute(\"create table emptable(emp_id int primary key,name varchar(20),salary float,department varchar(30),hiredate date)\")"
   ]
  },
  {
   "cell_type": "code",
   "execution_count": 5,
   "id": "b0c086b1",
   "metadata": {},
   "outputs": [
    {
     "name": "stdout",
     "output_type": "stream",
     "text": [
      "('employee',)\n",
      "('empmanagement',)\n",
      "('emptable',)\n"
     ]
    }
   ],
   "source": [
    "curs.execute(\"show tables\")\n",
    "for i in curs:\n",
    "    print (i)"
   ]
  },
  {
   "cell_type": "code",
   "execution_count": 9,
   "id": "eba370c1",
   "metadata": {},
   "outputs": [
    {
     "name": "stdout",
     "output_type": "stream",
     "text": [
      "1 is inserted\n"
     ]
    }
   ],
   "source": [
    "cus_insert=\"insert into emptable(emp_id,name,salary,department,hiredate)VALUES(123,'Harry',50000,'cse',STR_TO_DATE('10/17/2000', '%m/%d/%Y'))\"\n",
    "curs.execute(cus_insert)\n",
    "conn.commit()\n",
    "print(curs.rowcount,\"is inserted\")"
   ]
  },
  {
   "cell_type": "code",
   "execution_count": 10,
   "id": "4182c6de",
   "metadata": {},
   "outputs": [
    {
     "name": "stdout",
     "output_type": "stream",
     "text": [
      "1 is inserted\n"
     ]
    }
   ],
   "source": [
    "cus_insert=\"insert into emptable(emp_id,name,salary,department,hiredate)VALUES(456,'Hermoine',40000,'ece',STR_TO_DATE('11/22/2002', '%m/%d/%Y'))\"\n",
    "curs.execute(cus_insert)\n",
    "conn.commit()\n",
    "print(curs.rowcount,\"is inserted\")"
   ]
  },
  {
   "cell_type": "code",
   "execution_count": 11,
   "id": "bb15d357",
   "metadata": {},
   "outputs": [
    {
     "name": "stdout",
     "output_type": "stream",
     "text": [
      "The row is updated\n"
     ]
    }
   ],
   "source": [
    "cus_update=\"update emptable set department='it' WHERE name='Hermoine'\"\n",
    "curs.execute(cus_update)\n",
    "conn.commit()\n",
    "print(\"The row is updated\")"
   ]
  },
  {
   "cell_type": "code",
   "execution_count": 12,
   "id": "68ad492b",
   "metadata": {},
   "outputs": [],
   "source": [
    "#3\n",
    "curs.execute(\"create table table3(id int,name varchar(20),quantity int)\") #table3 is created"
   ]
  },
  {
   "cell_type": "code",
   "execution_count": 15,
   "id": "e0e6dbd4",
   "metadata": {},
   "outputs": [
    {
     "name": "stdout",
     "output_type": "stream",
     "text": [
      "5 is inserted\n"
     ]
    }
   ],
   "source": [
    "cus_insert=\"insert into table3(id,name,quantity)VALUES(%s,%s,%s)\"    #inserting values to the table3\n",
    "cus_values=[(12,'Harry',6),(14,'Hermoine',8),(25,'Ron',12),(7,'Bean',15),(20,'Emma',9)]\n",
    "curs.executemany(cus_insert,cus_values)\n",
    "conn.commit()\n",
    "print(curs.rowcount,\"is inserted\")        #5 rows is inserted to the table"
   ]
  },
  {
   "cell_type": "code",
   "execution_count": 4,
   "id": "f0268f01",
   "metadata": {},
   "outputs": [
    {
     "name": "stdout",
     "output_type": "stream",
     "text": [
      "(12, 'Harry', 6)\n",
      "(14, 'Hermoine', 8)\n",
      "(25, 'Ron', 12)\n",
      "(7, 'Bean', 15)\n",
      "(20, 'Emma', 9)\n"
     ]
    }
   ],
   "source": [
    "curs.execute(\"select *from table3\")     #retrieve records from table\n",
    "for i in curs:\n",
    "    print(i)"
   ]
  },
  {
   "cell_type": "code",
   "execution_count": 5,
   "id": "ae7c3c34",
   "metadata": {},
   "outputs": [],
   "source": [
    "curs.execute(\"select quantity from table3\")    #retreive qunatity from table3\n",
    "records=curs.fetchall()"
   ]
  },
  {
   "cell_type": "code",
   "execution_count": 6,
   "id": "b92ff3fd",
   "metadata": {},
   "outputs": [
    {
     "name": "stdout",
     "output_type": "stream",
     "text": [
      "Total Quantity: 50\n"
     ]
    }
   ],
   "source": [
    "total_quantity_of_all_records = sum(record[0] for record in records)  #calculating the total_quantity_of_all_records \n",
    "print(\"Total Quantity:\",total_quantity_of_all_records)"
   ]
  },
  {
   "cell_type": "code",
   "execution_count": 7,
   "id": "8904ad4f",
   "metadata": {},
   "outputs": [
    {
     "name": "stdout",
     "output_type": "stream",
     "text": [
      "The quantity column is updated\n"
     ]
    }
   ],
   "source": [
    "cus_update=\"update table3 set quantity=quantity*2\"    #updating quantity column by multiplying by 2 in each row\n",
    "curs.execute(cus_update)\n",
    "conn.commit()\n",
    "print(\"The quantity column is updated\")"
   ]
  },
  {
   "cell_type": "code",
   "execution_count": 8,
   "id": "2b161d5f",
   "metadata": {},
   "outputs": [],
   "source": [
    "#1.\n",
    "curs.execute(\"create database Inventory\")"
   ]
  },
  {
   "cell_type": "code",
   "execution_count": 9,
   "id": "05af317f",
   "metadata": {},
   "outputs": [
    {
     "name": "stdout",
     "output_type": "stream",
     "text": [
      "('emptable',)\n",
      "('information_schema',)\n",
      "('inventory',)\n",
      "('mla',)\n",
      "('mysql',)\n",
      "('performance_schema',)\n",
      "('problem',)\n",
      "('sakila',)\n",
      "('shirts_db',)\n",
      "('sys',)\n",
      "('world',)\n"
     ]
    }
   ],
   "source": [
    "curs.execute(\"show databases\")\n",
    "for i in curs:\n",
    "    print(i)"
   ]
  },
  {
   "cell_type": "markdown",
   "id": "9c51c9a4",
   "metadata": {},
   "source": [
    "# Database programming with MySQL:\n",
    "1. Implement Inventory Management in Python with MySQL\n",
    "a) Inventory management, a critical element of the supply chain, is the tracking of inventory from manufacturers to warehouses and from these facilities to a point of sale. The goal of inventory management is to have the right products in the right place at the right time.\n",
    "b) The required Database is Inventory, and the required Tables are Purchases, Sales and Inventory\n",
    "c) Note: Apply your thoughts to demonstrate the DB Operation in Python."
   ]
  },
  {
   "cell_type": "code",
   "execution_count": 2,
   "id": "7f7fef18",
   "metadata": {},
   "outputs": [
    {
     "name": "stdout",
     "output_type": "stream",
     "text": [
      "<mysql.connector.connection_cext.CMySQLConnection object at 0x000002EE4D786450>\n"
     ]
    }
   ],
   "source": [
    "import mysql.connector\n",
    "\n",
    "conn=mysql.connector.connect(host=\"127.0.0.1\",user=\"root\",password=\"HArry@#11\",database=\"Inventory\")\n",
    "\n",
    "print(conn)"
   ]
  },
  {
   "cell_type": "code",
   "execution_count": 4,
   "id": "8200289b",
   "metadata": {},
   "outputs": [],
   "source": [
    "curs=conn.cursor()\n",
    "curs.execute(\"create table purchases(id int primary key,name varchar(25),quantity int,price float)\")"
   ]
  },
  {
   "cell_type": "code",
   "execution_count": 5,
   "id": "ffb30882",
   "metadata": {},
   "outputs": [],
   "source": [
    "curs.execute(\"create table sales(id int primary key,name varchar(25),sellingprice float)\")"
   ]
  },
  {
   "cell_type": "code",
   "execution_count": 7,
   "id": "ce21c53c",
   "metadata": {},
   "outputs": [],
   "source": [
    "curs.execute(\"create table inventory(name varchar(25),supplier varchar(25))\")"
   ]
  },
  {
   "cell_type": "code",
   "execution_count": 12,
   "id": "7e08d112",
   "metadata": {},
   "outputs": [
    {
     "name": "stdout",
     "output_type": "stream",
     "text": [
      "5 is inserted\n"
     ]
    }
   ],
   "source": [
    "cus_insert=\"insert into purchases(id,name,quantity,price)VALUES(%s,%s,%s,%s)\"    #inserting values to the table3\n",
    "cus_values=[(11,'Harry',6,7000),(2,'Hermoine',8,900),(3,'Ron',12,899),(7,'Bean',6,1500),(8,'Emma',9,9000)]\n",
    "curs.executemany(cus_insert,cus_values)\n",
    "conn.commit()\n",
    "print(curs.rowcount,\"is inserted\")"
   ]
  },
  {
   "cell_type": "code",
   "execution_count": 13,
   "id": "a8152532",
   "metadata": {},
   "outputs": [
    {
     "name": "stdout",
     "output_type": "stream",
     "text": [
      "5 is inserted\n"
     ]
    }
   ],
   "source": [
    "cus_insert=\"insert into sales(id,name,sellingprice)VALUES(%s,%s,%s)\"    #inserting values to the table3\n",
    "cus_values=[(11,'Harry',1000),(2,'Hermoine',200),(3,'Ron',150),(7,'Bean',790),(8,'Emma',900)]\n",
    "curs.executemany(cus_insert,cus_values)\n",
    "conn.commit()\n",
    "print(curs.rowcount,\"is inserted\")"
   ]
  },
  {
   "cell_type": "code",
   "execution_count": 14,
   "id": "d9902c49",
   "metadata": {},
   "outputs": [
    {
     "name": "stdout",
     "output_type": "stream",
     "text": [
      "5 is inserted\n"
     ]
    }
   ],
   "source": [
    "cus_insert=\"insert into inventory(name,supplier)VALUES(%s,%s)\"    #inserting values to the table3\n",
    "cus_values=[('Harry','unico'),('Hermoine','unico'),('Ron','textile'),('Bean','steel'),('Emma','ramco')]\n",
    "curs.executemany(cus_insert,cus_values)\n",
    "conn.commit()\n",
    "print(curs.rowcount,\"is inserted\")"
   ]
  },
  {
   "cell_type": "code",
   "execution_count": 23,
   "id": "1861e190",
   "metadata": {},
   "outputs": [
    {
     "name": "stdout",
     "output_type": "stream",
     "text": [
      "(2, 'Hermoine', 200.0)\n",
      "(3, 'Ron', 150.0)\n",
      "(7, 'Bean', 790.0)\n",
      "(8, 'Emma', 900.0)\n",
      "(11, 'Harry', 1000.0)\n"
     ]
    }
   ],
   "source": [
    "curs.execute(\"select *from sales\")\n",
    "for i in curs:\n",
    "    print(i)"
   ]
  },
  {
   "cell_type": "code",
   "execution_count": 18,
   "id": "bb0b50b3",
   "metadata": {},
   "outputs": [
    {
     "name": "stdout",
     "output_type": "stream",
     "text": [
      "(2, 'Hermoine', 8, 200.0)\n",
      "(3, 'Ron', 12, 150.0)\n",
      "(7, 'Bean', 6, 790.0)\n",
      "(8, 'Emma', 9, 900.0)\n",
      "(11, 'Harry', 6, 1000.0)\n"
     ]
    }
   ],
   "source": [
    "curs.execute(\"select purchases.id,purchases.name,purchases.quantity,sales.sellingprice from purchases inner join sales on purchases.id=sales.id\")\n",
    "for i in curs:\n",
    "    print(i)"
   ]
  },
  {
   "cell_type": "code",
   "execution_count": 24,
   "id": "d27bfdb9",
   "metadata": {},
   "outputs": [
    {
     "name": "stdout",
     "output_type": "stream",
     "text": [
      "(7, 'Bean', 790.0)\n",
      "(8, 'Emma', 900.0)\n",
      "(11, 'Harry', 1000.0)\n"
     ]
    }
   ],
   "source": [
    "curs.execute(\"select *from sales where sellingprice>=700\")\n",
    "for i in curs:\n",
    "    print(i)"
   ]
  },
  {
   "cell_type": "code",
   "execution_count": 26,
   "id": "c7cd3ea3",
   "metadata": {},
   "outputs": [],
   "source": [
    "#1module import and management\n",
    "import datetime\n",
    "\n",
    "import time\n"
   ]
  },
  {
   "cell_type": "code",
   "execution_count": 28,
   "id": "bc41e3e7",
   "metadata": {},
   "outputs": [
    {
     "name": "stdout",
     "output_type": "stream",
     "text": [
      "Today's date: 2023-09-16\n"
     ]
    }
   ],
   "source": [
    "from datetime import date\n",
    "print(\"Today's date:\",date.today())"
   ]
  },
  {
   "cell_type": "code",
   "execution_count": 29,
   "id": "ed6fe39e",
   "metadata": {},
   "outputs": [
    {
     "data": {
      "text/plain": [
       "datetime.date(2023, 9, 16)"
      ]
     },
     "execution_count": 29,
     "metadata": {},
     "output_type": "execute_result"
    }
   ],
   "source": [
    "today=date.today()\n",
    "today"
   ]
  },
  {
   "cell_type": "code",
   "execution_count": 30,
   "id": "527dccc3",
   "metadata": {},
   "outputs": [
    {
     "data": {
      "text/plain": [
       "9"
      ]
     },
     "execution_count": 30,
     "metadata": {},
     "output_type": "execute_result"
    }
   ],
   "source": [
    "today.month"
   ]
  },
  {
   "cell_type": "code",
   "execution_count": 31,
   "id": "8ea4a7db",
   "metadata": {},
   "outputs": [],
   "source": [
    "import random\n",
    "\n",
    "import math"
   ]
  },
  {
   "cell_type": "code",
   "execution_count": 32,
   "id": "d526e710",
   "metadata": {},
   "outputs": [],
   "source": [
    "def custom():\n",
    "    print(\"This is a custom function\")"
   ]
  },
  {
   "cell_type": "code",
   "execution_count": 34,
   "id": "d1943914",
   "metadata": {},
   "outputs": [
    {
     "name": "stdout",
     "output_type": "stream",
     "text": [
      "factorial of 5 120\n",
      "pi value 3.141592653589793\n",
      "square root of 81: 9.0\n",
      "random number: 0.5555971899700101\n",
      "random no in range 31\n"
     ]
    }
   ],
   "source": [
    "print(\"factorial of 5\",math.factorial(5))\n",
    "print(\"pi value\",math.pi)\n",
    "print(\"square root of 81:\", math.sqrt(81))\n",
    "print(\"random number:\", random.random())\n",
    "print(\"random no in range\",random.randint(25,36))"
   ]
  },
  {
   "cell_type": "code",
   "execution_count": 35,
   "id": "7211d9e0",
   "metadata": {},
   "outputs": [
    {
     "name": "stdout",
     "output_type": "stream",
     "text": [
      "This is a custom function\n"
     ]
    }
   ],
   "source": [
    "custom()"
   ]
  },
  {
   "cell_type": "code",
   "execution_count": 39,
   "id": "65116e9b",
   "metadata": {},
   "outputs": [
    {
     "name": "stdout",
     "output_type": "stream",
     "text": [
      "importing module error\n"
     ]
    }
   ],
   "source": [
    "try:\n",
    "    import non_existent_module\n",
    "except ImportError as e:\n",
    "    print(\"importing module error\")"
   ]
  },
  {
   "cell_type": "code",
   "execution_count": 40,
   "id": "c6e31049",
   "metadata": {},
   "outputs": [
    {
     "name": "stdout",
     "output_type": "stream",
     "text": [
      "<mysql.connector.connection_cext.CMySQLConnection object at 0x000002EE4DE3C590>\n"
     ]
    }
   ],
   "source": [
    "#2.customer order processing\n",
    "import mysql.connector\n",
    "\n",
    "conn=mysql.connector.connect(host=\"127.0.0.1\",user=\"root\",password=\"HArry@#11\",database=\"customer\")\n",
    "\n",
    "print(conn)"
   ]
  },
  {
   "cell_type": "code",
   "execution_count": 41,
   "id": "6fd51e15",
   "metadata": {},
   "outputs": [
    {
     "name": "stdout",
     "output_type": "stream",
     "text": [
      "('customer',)\n",
      "('emptable',)\n",
      "('information_schema',)\n",
      "('inventory',)\n",
      "('mla',)\n",
      "('mysql',)\n",
      "('performance_schema',)\n",
      "('problem',)\n",
      "('sakila',)\n",
      "('shirts_db',)\n",
      "('sys',)\n",
      "('world',)\n"
     ]
    }
   ],
   "source": [
    "curs=conn.cursor()\n",
    "curs.execute(\"show databases\")\n",
    "for i in curs:\n",
    "    print(i)"
   ]
  },
  {
   "cell_type": "code",
   "execution_count": 43,
   "id": "bee6dfc7",
   "metadata": {},
   "outputs": [],
   "source": [
    "curs.execute(\"create table customers(customer_id int primary key,name varchar(25),address varchar(50),mobile varchar(15))\")"
   ]
  },
  {
   "cell_type": "code",
   "execution_count": 44,
   "id": "38f5d6bc",
   "metadata": {},
   "outputs": [],
   "source": [
    "curs.execute(\"create table products(product_id int primary key,name varchar(25),price int,quantity int)\")"
   ]
  },
  {
   "cell_type": "code",
   "execution_count": 47,
   "id": "e413ce33",
   "metadata": {},
   "outputs": [],
   "source": [
    "curs.execute(\"create table orders(order_id int primary key,customer_id int,foreign key(customer_id)references customers(customer_id))\")"
   ]
  },
  {
   "cell_type": "code",
   "execution_count": 51,
   "id": "0804a4f9",
   "metadata": {},
   "outputs": [
    {
     "name": "stdout",
     "output_type": "stream",
     "text": [
      "3 is inserted into customers table\n"
     ]
    }
   ],
   "source": [
    "cus_insert=\"insert into customers(customer_id,name,address,mobile)VALUES(%s,%s,%s,%s)\"    #inserting values to the customers\n",
    "cus_values=[(24,'Harry','gandhi st',9090909090),(67,'Hermoine','nehru st',8080808080),(35,'Ron','anna st',7070707070)]\n",
    "curs.executemany(cus_insert,cus_values)\n",
    "conn.commit()\n",
    "print(curs.rowcount,\"is inserted into customers table\")"
   ]
  },
  {
   "cell_type": "code",
   "execution_count": 52,
   "id": "8edec62c",
   "metadata": {},
   "outputs": [
    {
     "name": "stdout",
     "output_type": "stream",
     "text": [
      "3 is inserted into products table\n"
     ]
    }
   ],
   "source": [
    "cus_insert=\"insert into products(product_id,name,price,quantity)VALUES(%s,%s,%s,%s)\"    #inserting values to the products\n",
    "cus_values=[(9,'Dress',800,2),(7,'sling bag',1000,1),(3,'mug',100,7)]\n",
    "curs.executemany(cus_insert,cus_values)\n",
    "conn.commit()\n",
    "print(curs.rowcount,\"is inserted into products table\")"
   ]
  },
  {
   "cell_type": "code",
   "execution_count": 53,
   "id": "68ff2446",
   "metadata": {},
   "outputs": [
    {
     "name": "stdout",
     "output_type": "stream",
     "text": [
      "3 is inserted into products table\n"
     ]
    }
   ],
   "source": [
    "cus_insert=\"insert into orders(order_id,customer_id)VALUES(%s,%s)\"    #inserting values to the orders\n",
    "cus_values=[(101,24),(102,67),(103,35)]\n",
    "curs.executemany(cus_insert,cus_values)\n",
    "conn.commit()\n",
    "print(curs.rowcount,\"is inserted into products table\")"
   ]
  },
  {
   "cell_type": "code",
   "execution_count": 2,
   "id": "7f4175dd",
   "metadata": {},
   "outputs": [],
   "source": [
    "#Function to place a new order\n",
    "def place_order(curs, customer_id):\n",
    "    display_products(curs)\n",
    "    \n",
    "    # Prompt the customer for product selection\n",
    "    product_id = int(input(\"Enter the product ID to purchase: \"))\n",
    "    quantity = int(input(\"Enter the quantity to purchase: \"))\n",
    "    \n",
    "    # Check product availability\n",
    "    curs.execute(\"SELECT quantity, price FROM Products WHERE product_id = %s\", (product_id,))\n",
    "    product = cursor.fetchone()\n",
    "    \n",
    "    if product is None:\n",
    "        print(\"Product not found.\")\n",
    "        return\n",
    "    \n",
    "    available_quantity, price = product\n",
    "    \n",
    "    if quantity > available_quantity:\n",
    "        print(\"Insufficient quantity available.\")\n",
    "        return"
   ]
  },
  {
   "cell_type": "code",
   "execution_count": 4,
   "id": "16d24e0a",
   "metadata": {},
   "outputs": [
    {
     "name": "stdout",
     "output_type": "stream",
     "text": [
      "Error: 2005 (HY000): Unknown MySQL server host 'root' (11001)\n",
      "Failed to connect to the database.\n"
     ]
    }
   ],
   "source": [
    "import mysql.connector\n",
    "\n",
    "# Function to establish a database connection\n",
    "def connect_to_database():\n",
    "    try:\n",
    "        connection = mysql.connector.connect(\n",
    "            host=\"root\",\n",
    "            user=\"127.0.0.1\",\n",
    "            password=\"HArry@#11\",\n",
    "            database=\"customer\"\n",
    "        )\n",
    "        if connection.is_connected():\n",
    "            return connection\n",
    "        else:\n",
    "            return None\n",
    "    except mysql.connector.Error as err:\n",
    "        print(\"Error:\", err)\n",
    "        return None\n",
    "\n",
    "# Function to display available products\n",
    "def display_products(curs):\n",
    "    curs.execute(\"SELECT * FROM Products\")\n",
    "    products = curs.fetchall()\n",
    "    \n",
    "    print(\"Available Products:\")\n",
    "    for product in products:\n",
    "        print(f\"{product[0]}. {product[1]} - ${product[3]} (Qty: {product[4]})\")\n",
    "\n",
    "# Function to place a new order\n",
    "def place_order(curs, customer_id):\n",
    "    display_products(curs)\n",
    "    \n",
    "    # Prompt the customer for product selection\n",
    "    product_id = int(input(\"Enter the product ID to purchase: \"))\n",
    "    quantity = int(input(\"Enter the quantity to purchase: \"))\n",
    "    \n",
    "    # Check product availability\n",
    "    curs.execute(\"SELECT quantity FROM Products WHERE product_id = %s\", (product_id,))\n",
    "    product = curs.fetchone()\n",
    "    if product is None or quantity > product[0]:\n",
    "        print(\"Product not available or insufficient quantity.\")\n",
    "        return\n",
    "    \n",
    "    # Calculate total cost\n",
    "    curs.execute(\"SELECT price FROM Products WHERE product_id = %s\", (product_id,))\n",
    "    price = curs.fetchone()[0]\n",
    "    cost = price * quantity\n",
    "    \n",
    "    # Insert order into Orders table\n",
    "    curs.execute(\"INSERT INTO Orders (customer_id) VALUES (%s)\", (customer_id,))\n",
    "    order_id = curs.lastrowid\n",
    "    \n",
    "    \n",
    "    # Update product quantity\n",
    "    new_quantity = product[0] - quantity\n",
    "    curs.execute(\"UPDATE Products SET quantity = %s WHERE product_id = %s\", (new_quantity, product_id))\n",
    "    \n",
    "    print(\"Order placed successfully!\")\n",
    "\n",
    "if __name__ == \"__main__\":\n",
    "    # Connect to the database\n",
    "    connection = connect_to_database()\n",
    "    if connection is None:\n",
    "        print(\"Failed to connect to the database.\")\n",
    "    else:\n",
    "        try:\n",
    "            curs = connection.curs()\n",
    "            \n",
    "            # Prompt the user for customer information (you can extend this part)\n",
    "            customer_id = int(input(\"Enter your customer ID: \"))\n",
    "            \n",
    "            # Place a new order\n",
    "            place_order(curs, customer_id)\n",
    "            \n",
    "            # Commit changes and close the connection\n",
    "            connection.commit()\n",
    "            curs.close()\n",
    "            connection.close()\n",
    "        except Exception as e:\n",
    "            print(\"Error:\", e)"
   ]
  },
  {
   "cell_type": "code",
   "execution_count": null,
   "id": "87776aeb",
   "metadata": {},
   "outputs": [],
   "source": [
    "#3.virtual environment ,run in command line argument\n",
    "import subprocess\n",
    "import sys\n",
    "import os\n",
    "\n",
    "def create__virtual_env(env_name):\n",
    "    try:\n",
    "        subprocess.run([sys.executable, '-m', 'venv', env_name])\n",
    "        print(f\"Virtual environment '{env_name}' created successfully.\")\n",
    "    except subprocess.CalledProcessError as e:\n",
    "        print(f\"Error: Failed to create the virtual environment. {e}\")\n",
    "\n",
    "def activate__virtual_env(env_name):\n",
    "    try:\n",
    "        activate_script = os.path.join(env_name, 'Scripts' if os.name == 'nt' else 'bin', 'activate')\n",
    "        subprocess.run([activate_script], shell=True)\n",
    "        print(f\"Activated virtual environment '{env_name}'.\")\n",
    "    except FileNotFoundError:\n",
    "        print(f\"Error: Virtual environment '{env_name}' not found.\")\n",
    "\n",
    "def deactivate__virtual_env():\n",
    "    try:\n",
    "        subprocess.run(['deactivate'], shell=True)\n",
    "        print(\"Deactivated the virtual environment.\")\n",
    "    except subprocess.CalledProcessError as e:\n",
    "        print(f\"Error: Failed to deactivate the virtual environment. {e}\")\n",
    "\n",
    "def install_package(env_name, package_name):\n",
    "    try:\n",
    "        subprocess.run([f'{env_name}/bin/pip', 'install', package_name])\n",
    "        print(f\"Installed '{package_name}' in '{env_name}'.\")\n",
    "    except subprocess.CalledProcessError as e:\n",
    "        print(f\"Error: Failed to install the package. {e}\")\n",
    "\n",
    "def upgrade_package(env_name, package_name):\n",
    "    try:\n",
    "        subprocess.run([f'{env_name}/bin/pip', 'install', '--upgrade', package_name])\n",
    "        print(f\"Upgraded '{package_name}' in '{env_name}'.\")\n",
    "    except subprocess.CalledProcessError as e:\n",
    "        print(f\"Error: Failed to upgrade the package. {e}\")\n",
    "\n",
    "def uninstall_package(env_name, package_name):\n",
    "    try:\n",
    "        subprocess.run([f'{env_name}/bin/pip', 'uninstall', '-y', package_name])\n",
    "        print(f\"Uninstalled '{package_name}' from '{env_name}'.\")\n",
    "    except subprocess.CalledProcessError as e:\n",
    "        print(f\"Error: Failed to uninstall the package. {e}\")\n",
    "\n",
    "def list_installed_packages(env_name):\n",
    "    try:\n",
    "        result = subprocess.run([f'{env_name}/bin/pip', 'list'], capture_output=True, text=True)\n",
    "        print(f\"Installed packages in '{env_name}':\\n{result.stdout}\")\n",
    "    except subprocess.CalledProcessError as e:\n",
    "        print(f\"Error: Failed to list installed packages. {e}\")\n",
    "\n",
    "\n",
    "env_name = \"_virtual_env\"\n",
    "package_name = \"numpy\"\n",
    "\n",
    "create__virtual_env(env_name)\n",
    "activate__virtual_env(env_name)\n",
    "install_package(env_name, package_name)\n",
    "list_installed_packages(env_name)\n",
    "upgrade_package(env_name, package_name)\n",
    "list_installed_packages(env_name)\n",
    "uninstall_package(env_name, package_name)\n",
    "list_installed_packages(env_name)\n",
    "deactivate_virtual_env()\n"
   ]
  },
  {
   "cell_type": "code",
   "execution_count": null,
   "id": "787446cc",
   "metadata": {},
   "outputs": [],
   "source": [
    "#3.module dependency run in command line argument\n",
    "import subprocess\n",
    "def install_dependencies():\n",
    "    try:\n",
    "        subprocess.call([\"pip\",\"install\",\"-r\",\"requirements.txt\"])\n",
    "        print(\"dependancies installed\")\n",
    "    except Exception as e:\n",
    "        print(f\"error in installing dependencies:{e}\")\n",
    "install_dependencies()"
   ]
  }
 ],
 "metadata": {
  "kernelspec": {
   "display_name": "Python 3 (ipykernel)",
   "language": "python",
   "name": "python3"
  },
  "language_info": {
   "codemirror_mode": {
    "name": "ipython",
    "version": 3
   },
   "file_extension": ".py",
   "mimetype": "text/x-python",
   "name": "python",
   "nbconvert_exporter": "python",
   "pygments_lexer": "ipython3",
   "version": "3.11.4"
  }
 },
 "nbformat": 4,
 "nbformat_minor": 5
}

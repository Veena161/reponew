{
 "cells": [
  {
   "cell_type": "code",
   "execution_count": 1,
   "id": "b3e319e5",
   "metadata": {},
   "outputs": [],
   "source": [
    "import numpy as np"
   ]
  },
  {
   "cell_type": "code",
   "execution_count": 2,
   "id": "a7f5948a",
   "metadata": {},
   "outputs": [],
   "source": [
    "dist=[24,56,97,100]\n",
    "time=[.3,.7,.10,.28]"
   ]
  },
  {
   "cell_type": "code",
   "execution_count": 3,
   "id": "f21b8c93",
   "metadata": {},
   "outputs": [
    {
     "ename": "TypeError",
     "evalue": "unsupported operand type(s) for /: 'list' and 'list'",
     "output_type": "error",
     "traceback": [
      "\u001b[1;31m---------------------------------------------------------------------------\u001b[0m",
      "\u001b[1;31mTypeError\u001b[0m                                 Traceback (most recent call last)",
      "Cell \u001b[1;32mIn[3], line 1\u001b[0m\n\u001b[1;32m----> 1\u001b[0m s\u001b[38;5;241m=\u001b[39mdist\u001b[38;5;241m/\u001b[39mtime\n",
      "\u001b[1;31mTypeError\u001b[0m: unsupported operand type(s) for /: 'list' and 'list'"
     ]
    }
   ],
   "source": [
    "s=dist/time"
   ]
  },
  {
   "cell_type": "code",
   "execution_count": 4,
   "id": "c2b610c5",
   "metadata": {},
   "outputs": [
    {
     "name": "stdout",
     "output_type": "stream",
     "text": [
      "[ 24  56  97 100] [0.3  0.7  0.1  0.28]\n",
      "[ 80.          80.         970.         357.14285714]\n"
     ]
    }
   ],
   "source": [
    "np_dist=np.array(dist)\n",
    "np_time=np.array(time)\n",
    "print(np_dist,np_time)\n",
    "speed=np_dist/np_time\n",
    "print(speed)"
   ]
  },
  {
   "cell_type": "code",
   "execution_count": 8,
   "id": "02527073",
   "metadata": {},
   "outputs": [
    {
     "name": "stdout",
     "output_type": "stream",
     "text": [
      "<class 'numpy.ndarray'>\n",
      "80.0\n",
      "[80. 80.]\n",
      "(4,)\n"
     ]
    }
   ],
   "source": [
    "print(type(speed))\n",
    "print(speed[0])\n",
    "print(speed[:2])\n",
    "print(speed.shape)"
   ]
  },
  {
   "cell_type": "code",
   "execution_count": 9,
   "id": "b5150100",
   "metadata": {},
   "outputs": [
    {
     "data": {
      "text/plain": [
       "array([[1., 1., 1., 1., 1.],\n",
       "       [1., 1., 1., 1., 1.],\n",
       "       [1., 1., 1., 1., 1.]])"
      ]
     },
     "execution_count": 9,
     "metadata": {},
     "output_type": "execute_result"
    }
   ],
   "source": [
    "#matrices\n",
    "a=np.ones((3,5))\n",
    "a"
   ]
  },
  {
   "cell_type": "code",
   "execution_count": 11,
   "id": "b0d6e021",
   "metadata": {},
   "outputs": [
    {
     "data": {
      "text/plain": [
       "array([[0., 0., 0., 0., 0.],\n",
       "       [0., 0., 0., 0., 0.],\n",
       "       [0., 0., 0., 0., 0.]])"
      ]
     },
     "execution_count": 11,
     "metadata": {},
     "output_type": "execute_result"
    }
   ],
   "source": [
    "a=np.zeros((3,5))\n",
    "a"
   ]
  },
  {
   "cell_type": "code",
   "execution_count": 12,
   "id": "05d402a4",
   "metadata": {},
   "outputs": [
    {
     "data": {
      "text/plain": [
       "array([[12, 12, 12, 12, 12],\n",
       "       [12, 12, 12, 12, 12],\n",
       "       [12, 12, 12, 12, 12]])"
      ]
     },
     "execution_count": 12,
     "metadata": {},
     "output_type": "execute_result"
    }
   ],
   "source": [
    "a=np.full((3,5),12)\n",
    "a"
   ]
  },
  {
   "cell_type": "code",
   "execution_count": 17,
   "id": "64099fa8",
   "metadata": {},
   "outputs": [
    {
     "name": "stdout",
     "output_type": "stream",
     "text": [
      "a: 4\n",
      "b: [1 2 3 4 5]\n",
      "c: [[1 2 3]\n",
      " [4 5 6]]\n",
      "d: [[[1 2 3]\n",
      "  [4 5 6]]\n",
      "\n",
      " [[1 2 3]\n",
      "  [4 5 6]]]\n"
     ]
    }
   ],
   "source": [
    "a = np.array(4)\n",
    "print(\"a:\",a)\n",
    "b = np.array([1, 2, 3, 4, 5])\n",
    "print(\"b:\",b)\n",
    "c = np.array([[1, 2, 3], [4, 5, 6]])\n",
    "print(\"c:\",c)\n",
    "d = np.array([[[1, 2, 3], [4, 5, 6]], [[1, 2, 3], [4, 5, 6]]])\n",
    "print(\"d:\",d)\n"
   ]
  },
  {
   "cell_type": "code",
   "execution_count": 18,
   "id": "8063529d",
   "metadata": {},
   "outputs": [
    {
     "data": {
      "text/plain": [
       "array([[0.25449134, 0.4456585 , 0.69089043, 0.74153976, 0.85262823],\n",
       "       [0.84074371, 0.12817375, 0.8887901 , 0.35628678, 0.80392367],\n",
       "       [0.08968871, 0.79421261, 0.20045846, 0.82809044, 0.92111793]])"
      ]
     },
     "execution_count": 18,
     "metadata": {},
     "output_type": "execute_result"
    }
   ],
   "source": [
    "a=np.random.random((3,5))\n",
    "a"
   ]
  },
  {
   "cell_type": "code",
   "execution_count": 19,
   "id": "94ad81c8",
   "metadata": {},
   "outputs": [
    {
     "data": {
      "text/plain": [
       "array([[[0.73175807, 0.53328263, 0.07921868],\n",
       "        [0.71837332, 0.89277617, 0.2525425 ],\n",
       "        [0.41074564, 0.6311254 , 0.24052816]],\n",
       "\n",
       "       [[0.44695561, 0.13457452, 0.96851715],\n",
       "        [0.03933953, 0.73965846, 0.21170397],\n",
       "        [0.06671403, 0.68890645, 0.97228582]],\n",
       "\n",
       "       [[0.88889524, 0.93673165, 0.92883711],\n",
       "        [0.85765535, 0.05402468, 0.12408853],\n",
       "        [0.13939493, 0.90920567, 0.9512486 ]]])"
      ]
     },
     "execution_count": 19,
     "metadata": {},
     "output_type": "execute_result"
    }
   ],
   "source": [
    "#1.Create a 3x3x3 array with random values\n",
    "a=np.random.random((3,3,3))\n",
    "a"
   ]
  },
  {
   "cell_type": "code",
   "execution_count": 20,
   "id": "c74bc07e",
   "metadata": {},
   "outputs": [
    {
     "name": "stdout",
     "output_type": "stream",
     "text": [
      "[[0 0 0 0 0]\n",
      " [1 0 0 0 0]\n",
      " [0 2 0 0 0]\n",
      " [0 0 3 0 0]\n",
      " [0 0 0 4 0]]\n"
     ]
    }
   ],
   "source": [
    "#2.Create a 5x5 matrix with values 1,2,3,4 just below the diagonal\n",
    "a=np.diag(np.arange(1,5),k=-1)\n",
    "print(a)"
   ]
  },
  {
   "cell_type": "code",
   "execution_count": 21,
   "id": "af78cf1f",
   "metadata": {},
   "outputs": [
    {
     "name": "stdout",
     "output_type": "stream",
     "text": [
      "[[0 1 0 1 0 1 0 1]\n",
      " [1 0 1 0 1 0 1 0]\n",
      " [0 1 0 1 0 1 0 1]\n",
      " [1 0 1 0 1 0 1 0]\n",
      " [0 1 0 1 0 1 0 1]\n",
      " [1 0 1 0 1 0 1 0]\n",
      " [0 1 0 1 0 1 0 1]\n",
      " [1 0 1 0 1 0 1 0]]\n"
     ]
    }
   ],
   "source": [
    "#3..Create a 8x8 matrix and fill it with a checkerboard pattern\n",
    "a=np.zeros((8, 8), dtype=int)\n",
    "a[1::2, ::2]=1\n",
    "a[::2, 1::2]=1\n",
    "print(a)"
   ]
  },
  {
   "cell_type": "code",
   "execution_count": 23,
   "id": "cb5e7553",
   "metadata": {},
   "outputs": [
    {
     "name": "stdout",
     "output_type": "stream",
     "text": [
      "Before normalization:\n",
      " [[0.26968744 0.19049902 0.27220486 0.16172569 0.31321878]\n",
      " [0.27606475 0.26840082 0.74616439 0.06168488 0.31131921]\n",
      " [0.80824702 0.44886974 0.68720903 0.4553731  0.64952387]\n",
      " [0.43064703 0.53615138 0.88004815 0.11673904 0.00206993]\n",
      " [0.29174039 0.34574078 0.67552625 0.14493894 0.60795989]]\n",
      "After normalization:\n",
      " [[0.30481111 0.21461704 0.30767839 0.18184478 0.35439245]\n",
      " [0.31207474 0.30334566 0.84750902 0.06790026 0.35222887]\n",
      " [0.91821992 0.50889623 0.78036001 0.51630343 0.73743736]\n",
      " [0.48814092 0.60830831 1.         0.13060587 0.        ]\n",
      " [0.32992898 0.39143436 0.76705355 0.162725   0.6900968 ]]\n"
     ]
    }
   ],
   "source": [
    "#4.Normalize a 5x5 random matrix\n",
    "a=np.random.random((5,5))\n",
    "print(\"Before normalization:\\n\",a)\n",
    "amax, amin = a.max(),a.min()\n",
    "a=(a - amin)/(amax - amin)\n",
    "print(\"After normalization:\\n\",a)"
   ]
  },
  {
   "cell_type": "code",
   "execution_count": 24,
   "id": "ba675354",
   "metadata": {},
   "outputs": [
    {
     "name": "stdout",
     "output_type": "stream",
     "text": [
      "[2 5 7]\n"
     ]
    }
   ],
   "source": [
    "#5.common values between two arrays\n",
    "a=np.array([1,2,4,3,5,6,7])\n",
    "b=np.array([2,5,7])\n",
    "print(np.intersect1d(a,b))"
   ]
  },
  {
   "cell_type": "code",
   "execution_count": 26,
   "id": "75979e29",
   "metadata": {},
   "outputs": [
    {
     "name": "stdout",
     "output_type": "stream",
     "text": [
      "Yestraday's Date: 2023-09-20\n",
      "Today's Date: 2023-09-21\n",
      "Tomorrow's Date: 2023-09-22\n"
     ]
    }
   ],
   "source": [
    "#6.How to get the dates of yesterday, today and tomorrow?\n",
    "yesterday=np.datetime64('today','D')-np.timedelta64(1,'D')\n",
    "print(\"Yestraday's Date:\",yesterday)\n",
    "today=np.datetime64('today','D')\n",
    "print(\"Today's Date:\",today)\n",
    "tomorrow=np.datetime64('today','D')+np.timedelta64(1,'D')\n",
    "print(\"Tomorrow's Date:\",tomorrow)"
   ]
  },
  {
   "cell_type": "code",
   "execution_count": 29,
   "id": "0d5e4e1f",
   "metadata": {},
   "outputs": [
    {
     "name": "stdout",
     "output_type": "stream",
     "text": [
      "A and B are not equal\n"
     ]
    }
   ],
   "source": [
    "#7.check if two random array A and B are equal\n",
    "A=np.random.random((3,3))\n",
    "B=np.random.random((3,3))\n",
    "equal = np.array_equal(A, B)\n",
    "if equal:\n",
    "    print(\"A and B are equal\")\n",
    "else:\n",
    "    print(\"A and B are not equal\")"
   ]
  },
  {
   "cell_type": "code",
   "execution_count": 30,
   "id": "54bd83bf",
   "metadata": {},
   "outputs": [
    {
     "name": "stdout",
     "output_type": "stream",
     "text": [
      "[ 0  1  2  3  4  5  6  7  8  9 10 11 12 13 14 15 16 17 18 19 20 21 22 23\n",
      " 24]\n"
     ]
    }
   ],
   "source": [
    "#9.How to print all the values of an array?\n",
    "a=np.arange(25)\n",
    "print(a)"
   ]
  },
  {
   "cell_type": "code",
   "execution_count": 33,
   "id": "72406ca3",
   "metadata": {},
   "outputs": [
    {
     "name": "stdout",
     "output_type": "stream",
     "text": [
      "[[0.85884275 0.54672968 0.6177768 ]\n",
      " [0.24232974 0.69445805 0.02808114]\n",
      " [0.14940079 0.76089679 0.66700112]\n",
      " [0.52703731 0.46233692 0.93797916]\n",
      " [0.8339155  0.85807201 0.65164344]]\n"
     ]
    }
   ],
   "source": [
    "a=np.random.rand(5,3)\n",
    "np.set_printoptions(threshold = np.inf) \n",
    "print(a)"
   ]
  },
  {
   "cell_type": "code",
   "execution_count": 36,
   "id": "f94e885b",
   "metadata": {},
   "outputs": [
    {
     "name": "stdout",
     "output_type": "stream",
     "text": [
      "a: [[12  8  9]\n",
      " [ 7  6  5]\n",
      " [ 9  3 11]]\n",
      "Subtract the mean of each row of matrix:\n",
      "\n",
      "[[ 2.33333333 -1.66666667 -0.66666667]\n",
      " [ 1.          0.         -1.        ]\n",
      " [ 1.33333333 -4.66666667  3.33333333]]\n"
     ]
    }
   ],
   "source": [
    "#10.Subtract the mean of each row of a matrix\n",
    "a=np.array([[12,8,9],[7,6,5],[9,3,11]])\n",
    "print(\"a:\",a)\n",
    "print(\"Subtract the mean of each row of matrix:\\n\")\n",
    "result= a-a.mean(axis=1,keepdims=True)\n",
    "print(result)\n"
   ]
  },
  {
   "cell_type": "code",
   "execution_count": 41,
   "id": "b56fbcf2",
   "metadata": {},
   "outputs": [
    {
     "name": "stdout",
     "output_type": "stream",
     "text": [
      "a:\n",
      " [0.74381372 0.05339205 0.50690159 0.58717587 0.36683135 0.07379982\n",
      " 0.83456804 0.25766523 0.72177563 0.18593586]\n",
      "Maximum value replaced by 0:\n",
      " [0.74381372 0.05339205 0.50690159 0.58717587 0.36683135 0.07379982\n",
      " 0.         0.25766523 0.72177563 0.18593586]\n"
     ]
    }
   ],
   "source": [
    "#8.Create random vector of size 10 and replace the maximum value by 0\n",
    "a= np.random.random(10)\n",
    "print(\"a:\\n\",a)\n",
    "a[a.argmax()]=0\n",
    "print(\"Maximum value replaced by 0:\\n\",a)"
   ]
  },
  {
   "cell_type": "code",
   "execution_count": 44,
   "id": "1a3c93e4",
   "metadata": {},
   "outputs": [
    {
     "name": "stdout",
     "output_type": "stream",
     "text": [
      "Dot Product:\n",
      " [[ 36  54  42]\n",
      " [ 84 118  90]\n",
      " [ 31  47  35]]\n",
      "\n",
      "Diagonal of Dot Product: [ 36 118  35]\n"
     ]
    }
   ],
   "source": [
    "#12.How to get the diagonal of a dot product?\n",
    "a=np.array([[2,4,6],[6,8,10],[2,3,5]])\n",
    "b=np.array([[7,9,5],[4,3,5],[1,4,2]])\n",
    "dotproduct=np.dot(a,b)\n",
    "diagonal=np.diagonal(dotproduct)\n",
    "print(\"Dot Product:\\n\",dotproduct)\n",
    "print(\"\\nDiagonal of Dot Product:\",diagonal)"
   ]
  },
  {
   "cell_type": "code",
   "execution_count": 46,
   "id": "e190e822",
   "metadata": {},
   "outputs": [
    {
     "name": "stdout",
     "output_type": "stream",
     "text": [
      "Original array:\n",
      " [7 9 7 7 5 4 3 5 4 8 9 4 2 9 0 9 5 3 2 0 8 5 6 4 6 0 0 6 1 3 1 4 0 6 9 0 1\n",
      " 0 5 5 3 2 4 6 5 4 2 7 4 1]\n",
      "Most frequent value in array:\n",
      "4\n"
     ]
    }
   ],
   "source": [
    "#13.How to find the most frequent value in an array?\n",
    "a=np.random.randint(0,10,50)\n",
    "print(\"Original array:\\n\",a)\n",
    "print(\"Most frequent value in array:\")\n",
    "print(np.bincount(a).argmax())\n"
   ]
  },
  {
   "cell_type": "code",
   "execution_count": 48,
   "id": "9f85f05a",
   "metadata": {},
   "outputs": [
    {
     "name": "stdout",
     "output_type": "stream",
     "text": [
      "Original array:\n",
      " [ 0  1  2  3  4  5  6  7  8  9 10 11]\n",
      "Largest values: [ 9 10 11]\n"
     ]
    }
   ],
   "source": [
    "#14.How to get the n largest values of an array\n",
    "import numpy as np\n",
    "a=np.arange(12)\n",
    "print(\"Original array:\\n\",a)\n",
    "n=3\n",
    "print(\"Largest values:\",a[np.argsort(a)[-n:]])\n"
   ]
  },
  {
   "cell_type": "code",
   "execution_count": 62,
   "id": "156a66a7",
   "metadata": {},
   "outputs": [
    {
     "name": "stdout",
     "output_type": "stream",
     "text": [
      "[['Yasemin Rayner' '88.5' '90']\n",
      " ['Ayaana Mcnamara' '87' '99']\n",
      " ['Jody Preece' '85.5' '91']]\n",
      "\n",
      "Record array;\n",
      "[('Yasemin Rayner', '88.5', '90') ('Ayaana Mcnamara', '87', '99')\n",
      " ('Jody Preece', '85.5', '91')]\n"
     ]
    }
   ],
   "source": [
    "#15.How to create a record array from a regular array?\n",
    "a=np.array([(\"Yasemin Rayner\", 88.5, 90),\n",
    "                 (\"Ayaana Mcnamara\", 87, 99),\n",
    "             (\"Jody Preece\", 85.5, 91)])\n",
    "print(a)\n",
    "print(\"\\nRecord array;\")\n",
    "result = np.rec.fromarrays(a.T,\n",
    "                              names='col1, col2, col3')\n",
    "print(result)"
   ]
  },
  {
   "cell_type": "code",
   "execution_count": 63,
   "id": "6e1c757f",
   "metadata": {},
   "outputs": [
    {
     "name": "stdout",
     "output_type": "stream",
     "text": [
      "Regular Array:\n",
      "[(1, 'Alice', 25) (2, 'Bob', 30) (3, 'Charlie', 35)]\n",
      "\n",
      "Record Array:\n",
      "((1, 'Alice', 25), (2, 'Bob', 30), (3, 'Charlie', 35))\n"
     ]
    }
   ],
   "source": [
    "regular_array = np.array([(1, 'Alice', 25),\n",
    "                          (2, 'Bob', 30),\n",
    "                          (3, 'Charlie', 35)],\n",
    "                         dtype=[('ID', int), ('Name', 'U10'), ('Age', int)])\n",
    "record_array = np.rec.fromarrays(regular_array.T, names='col1,col2,col3')\n",
    "\n",
    "print(\"Regular Array:\")\n",
    "print(regular_array)\n",
    "\n",
    "print(\"\\nRecord Array:\")\n",
    "print(record_array)\n"
   ]
  },
  {
   "cell_type": "code",
   "execution_count": 52,
   "id": "fc2f994c",
   "metadata": {},
   "outputs": [
    {
     "name": "stdout",
     "output_type": "stream",
     "text": [
      "a:\n",
      " [[5 2 6]\n",
      " [8 7 0]\n",
      " [1 3 5]\n",
      " [9 4 1]]\n",
      "after swapping:\n",
      " [[1 3 5]\n",
      " [8 7 0]\n",
      " [5 2 6]\n",
      " [9 4 1]]\n"
     ]
    }
   ],
   "source": [
    "#16.swap two rows of array\n",
    "a=np.array([[5,2,6], [8,7,0], [1,3,5], [9,4,1]])\n",
    "print(\"a:\\n\",a)\n",
    "a[[0,2]]=a[[2,0]]\n",
    "print(\"after swapping:\\n\",a)"
   ]
  },
  {
   "cell_type": "code",
   "execution_count": 53,
   "id": "48b95ff1",
   "metadata": {},
   "outputs": [
    {
     "name": "stdout",
     "output_type": "stream",
     "text": [
      "a:\n",
      " [[5 2 6]\n",
      " [8 7 0]\n",
      " [1 3 5]\n",
      " [9 4 1]]\n",
      "after swapping:\n",
      " [[5 2 6]\n",
      " [1 3 5]\n",
      " [8 7 0]\n",
      " [9 4 1]]\n"
     ]
    }
   ],
   "source": [
    "a=np.array([[5,2,6], [8,7,0], [1,3,5], [9,4,1]])\n",
    "print(\"a:\\n\",a)\n",
    "a[[1,2]]=a[[2,1]]\n",
    "print(\"after swapping:\\n\",a)"
   ]
  },
  {
   "cell_type": "code",
   "execution_count": 54,
   "id": "5b98cdeb",
   "metadata": {},
   "outputs": [
    {
     "data": {
      "text/plain": [
       "array([[ 23,  34, 121],\n",
       "       [ 23,  22,  67],\n",
       "       [686, 434, 123]])"
      ]
     },
     "execution_count": 54,
     "metadata": {},
     "output_type": "execute_result"
    }
   ],
   "source": [
    "#17.reshape to next dimension of numpy array\n",
    "x=np.array([[23,34,121],[23,22,67],[686,434,123]])\n",
    "x"
   ]
  },
  {
   "cell_type": "code",
   "execution_count": 56,
   "id": "b136cd9d",
   "metadata": {},
   "outputs": [
    {
     "name": "stdout",
     "output_type": "stream",
     "text": [
      "(3, 3)\n",
      "2\n"
     ]
    }
   ],
   "source": [
    "print(x.shape)\n",
    "print(x.ndim)"
   ]
  },
  {
   "cell_type": "code",
   "execution_count": 58,
   "id": "247017ac",
   "metadata": {},
   "outputs": [
    {
     "name": "stdout",
     "output_type": "stream",
     "text": [
      "Original 2D Array:\n",
      " [[ 23  34 121]\n",
      " [ 23  22  67]\n",
      " [686 434 123]]\n",
      "Reshaped 3D Array:\n",
      " [[[ 23]\n",
      "  [ 34]\n",
      "  [121]]\n",
      "\n",
      " [[ 23]\n",
      "  [ 22]\n",
      "  [ 67]]\n",
      "\n",
      " [[686]\n",
      "  [434]\n",
      "  [123]]]\n"
     ]
    }
   ],
   "source": [
    "x=np.array([[23, 34, 121],[23, 22, 67],[686, 434, 123]])\n",
    "reshaped_x = x.reshape(x.shape[0], x.shape[1], 1)\n",
    "print(\"Original 2D Array:\\n\",x)\n",
    "print(\"Reshaped 3D Array:\\n\",reshaped_x)"
   ]
  },
  {
   "cell_type": "code",
   "execution_count": 59,
   "id": "93673805",
   "metadata": {},
   "outputs": [
    {
     "name": "stdout",
     "output_type": "stream",
     "text": [
      "(3, 3, 1)\n",
      "3\n"
     ]
    }
   ],
   "source": [
    "print(reshaped_x.shape)\n",
    "print(reshaped_x.ndim)"
   ]
  },
  {
   "cell_type": "code",
   "execution_count": 60,
   "id": "2a2070c6",
   "metadata": {},
   "outputs": [
    {
     "name": "stdout",
     "output_type": "stream",
     "text": [
      "Given Vector:\n",
      "[10 20 30 40 50]\n",
      "\n",
      "Indices Vector:\n",
      "[1 3 1 4 2]\n",
      "\n",
      "Result Vector:\n",
      "[0 2 1 1 1]\n"
     ]
    }
   ],
   "source": [
    "#11.vector,how to add 1 to each element indexed by a second vector\n",
    "import numpy as np\n",
    "given_vector = np.array([10, 20, 30, 40, 50])\n",
    "indices_vector = np.array([1, 3, 1, 4, 2])\n",
    "result_vector = np.zeros_like(given_vector)\n",
    "np.add.at(result_vector, indices_vector, 1)\n",
    "print(\"Given Vector:\")\n",
    "print(given_vector)\n",
    "\n",
    "print(\"\\nIndices Vector:\")\n",
    "print(indices_vector)\n",
    "\n",
    "print(\"\\nResult Vector:\")\n",
    "print(result_vector)\n"
   ]
  },
  {
   "cell_type": "markdown",
   "id": "298cc54c",
   "metadata": {},
   "source": [
    "# MINI CASE STUDY 2"
   ]
  },
  {
   "cell_type": "code",
   "execution_count": 65,
   "id": "9f62382c",
   "metadata": {},
   "outputs": [],
   "source": [
    "#dataset\n",
    "np_olympic_country=np.array(['GBR','China','RUS','US','KOR','JPN','GER']) \n",
    "np_olympic_country_gold=np.array([29,38,24,46,13,7,11])\n",
    "np_olympic_country_silver=np.array([17,28,25,28,8,14,11])\n",
    "np_olympic_country_Bronze=np.array([19,22,32,29,7,17,14])"
   ]
  },
  {
   "cell_type": "code",
   "execution_count": 76,
   "id": "c3c5aa04",
   "metadata": {},
   "outputs": [
    {
     "data": {
      "text/plain": [
       "array(['GBR', 'China', 'RUS', 'US', 'KOR', 'JPN', 'GER'], dtype='<U5')"
      ]
     },
     "execution_count": 76,
     "metadata": {},
     "output_type": "execute_result"
    }
   ],
   "source": [
    "country=np_olympic_country\n",
    "country"
   ]
  },
  {
   "cell_type": "code",
   "execution_count": 77,
   "id": "1f080fd3",
   "metadata": {},
   "outputs": [
    {
     "data": {
      "text/plain": [
       "array([29, 38, 24, 46, 13,  7, 11])"
      ]
     },
     "execution_count": 77,
     "metadata": {},
     "output_type": "execute_result"
    }
   ],
   "source": [
    "gold=np_olympic_country_gold\n",
    "gold"
   ]
  },
  {
   "cell_type": "code",
   "execution_count": 81,
   "id": "ca066e7f",
   "metadata": {},
   "outputs": [
    {
     "data": {
      "text/plain": [
       "3"
      ]
     },
     "execution_count": 81,
     "metadata": {},
     "output_type": "execute_result"
    }
   ],
   "source": [
    "#country index with maximum gold\n",
    "max_gold=np.argmax(gold)\n",
    "max_gold"
   ]
  },
  {
   "cell_type": "code",
   "execution_count": 83,
   "id": "6cb79d76",
   "metadata": {},
   "outputs": [
    {
     "data": {
      "text/plain": [
       "'US'"
      ]
     },
     "execution_count": 83,
     "metadata": {},
     "output_type": "execute_result"
    }
   ],
   "source": [
    "#country with maximum gold\n",
    "country_with_max_gold=country[max_gold]\n",
    "country_with_max_gold"
   ]
  },
  {
   "cell_type": "code",
   "execution_count": 87,
   "id": "e5e65a7c",
   "metadata": {},
   "outputs": [
    {
     "data": {
      "text/plain": [
       "array(['GBR', 'China', 'RUS', 'US'], dtype='<U5')"
      ]
     },
     "execution_count": 87,
     "metadata": {},
     "output_type": "execute_result"
    }
   ],
   "source": [
    "#countries with more than 20 gold medals\n",
    "goldmedals=gold>20\n",
    "country_with_more_than_20goldmedals=country[goldmedals]\n",
    "country_with_more_than_20goldmedals"
   ]
  },
  {
   "cell_type": "code",
   "execution_count": 88,
   "id": "79782da2",
   "metadata": {},
   "outputs": [
    {
     "name": "stdout",
     "output_type": "stream",
     "text": [
      "GBR: 29 gold medals\n",
      "China: 38 gold medals\n",
      "RUS: 24 gold medals\n",
      "US: 46 gold medals\n",
      "KOR: 13 gold medals\n",
      "JPN: 7 gold medals\n",
      "GER: 11 gold medals\n"
     ]
    }
   ],
   "source": [
    "#each country with no of gold medals\n",
    "for c,g in zip(country,gold):\n",
    "    print(f\"{c}: {g} gold medals\")"
   ]
  },
  {
   "cell_type": "code",
   "execution_count": 91,
   "id": "d68311cb",
   "metadata": {},
   "outputs": [
    {
     "data": {
      "text/plain": [
       "array([17, 28, 25, 28,  8, 14, 11])"
      ]
     },
     "execution_count": 91,
     "metadata": {},
     "output_type": "execute_result"
    }
   ],
   "source": [
    "#each country name with total no of medals\n",
    "silver=np_olympic_country_silver\n",
    "silver"
   ]
  },
  {
   "cell_type": "code",
   "execution_count": 92,
   "id": "22d006bb",
   "metadata": {},
   "outputs": [
    {
     "data": {
      "text/plain": [
       "array([19, 22, 32, 29,  7, 17, 14])"
      ]
     },
     "execution_count": 92,
     "metadata": {},
     "output_type": "execute_result"
    }
   ],
   "source": [
    "bronze=np_olympic_country_Bronze\n",
    "bronze"
   ]
  },
  {
   "cell_type": "code",
   "execution_count": 94,
   "id": "cc85098f",
   "metadata": {},
   "outputs": [
    {
     "data": {
      "text/plain": [
       "array([ 65,  88,  81, 103,  28,  38,  36])"
      ]
     },
     "execution_count": 94,
     "metadata": {},
     "output_type": "execute_result"
    }
   ],
   "source": [
    "total_medals=gold+silver+bronze\n",
    "total_medals"
   ]
  },
  {
   "cell_type": "code",
   "execution_count": 95,
   "id": "91b6fe9a",
   "metadata": {},
   "outputs": [
    {
     "name": "stdout",
     "output_type": "stream",
     "text": [
      "GBR: 65 medals\n",
      "China: 88 medals\n",
      "RUS: 81 medals\n",
      "US: 103 medals\n",
      "KOR: 28 medals\n",
      "JPN: 38 medals\n",
      "GER: 36 medals\n"
     ]
    }
   ],
   "source": [
    "for c,g in zip(country,total_medals):\n",
    "    print(f\"{c}: {g} medals\")"
   ]
  },
  {
   "cell_type": "code",
   "execution_count": null,
   "id": "b20ec316",
   "metadata": {},
   "outputs": [],
   "source": []
  }
 ],
 "metadata": {
  "kernelspec": {
   "display_name": "Python 3 (ipykernel)",
   "language": "python",
   "name": "python3"
  },
  "language_info": {
   "codemirror_mode": {
    "name": "ipython",
    "version": 3
   },
   "file_extension": ".py",
   "mimetype": "text/x-python",
   "name": "python",
   "nbconvert_exporter": "python",
   "pygments_lexer": "ipython3",
   "version": "3.11.4"
  }
 },
 "nbformat": 4,
 "nbformat_minor": 5
}
